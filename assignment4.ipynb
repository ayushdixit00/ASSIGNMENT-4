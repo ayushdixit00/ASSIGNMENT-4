{
 "cells": [
  {
   "cell_type": "code",
   "execution_count": 1,
   "id": "08910f38-c830-4338-abee-96282ea6c549",
   "metadata": {},
   "outputs": [],
   "source": [
    "# 1. Write a Python program to check if a given number is positive or negative."
   ]
  },
  {
   "cell_type": "code",
   "execution_count": 2,
   "id": "4ffaca31-7661-4774-b348-3d04eb1d0f91",
   "metadata": {},
   "outputs": [
    {
     "name": "stdin",
     "output_type": "stream",
     "text": [
      "Enter a number:  5\n"
     ]
    },
    {
     "name": "stdout",
     "output_type": "stream",
     "text": [
      "The number is positive.\n"
     ]
    }
   ],
   "source": [
    "# Input a number from the user\n",
    "num = float(input(\"Enter a number: \"))\n",
    "\n",
    "# Check if the number is positive, negative, or zero\n",
    "if num > 0:\n",
    "    print(\"The number is positive.\")\n",
    "elif num < 0:\n",
    "    print(\"The number is negative.\")\n",
    "else:\n",
    "    print(\"The number is zero.\")\n"
   ]
  },
  {
   "cell_type": "code",
   "execution_count": 3,
   "id": "3d03c764-771b-424e-b1b2-0c2dc326c917",
   "metadata": {},
   "outputs": [],
   "source": [
    "# 2. Create a program that determines if a person is eligible to vote based on their age."
   ]
  },
  {
   "cell_type": "code",
   "execution_count": 4,
   "id": "2eee848b-15ec-409b-ba71-a2f1869956e1",
   "metadata": {},
   "outputs": [
    {
     "name": "stdin",
     "output_type": "stream",
     "text": [
      "Enter your age:  23\n"
     ]
    },
    {
     "name": "stdout",
     "output_type": "stream",
     "text": [
      "You are eligible to vote.\n"
     ]
    }
   ],
   "source": [
    "# Input the person's age\n",
    "age = int(input(\"Enter your age: \"))\n",
    "\n",
    "# Check if the person is eligible to vote\n",
    "if age >= 18:\n",
    "    print(\"You are eligible to vote.\")\n",
    "else:\n",
    "    print(\"You are not eligible to vote.\")\n"
   ]
  },
  {
   "cell_type": "code",
   "execution_count": 5,
   "id": "84e7b602-b5ba-4c61-bb6e-932c9e7c49d6",
   "metadata": {},
   "outputs": [],
   "source": [
    "# 3. Develop a program to find the maximum of two numbers using if-else statements."
   ]
  },
  {
   "cell_type": "code",
   "execution_count": 6,
   "id": "a4bb4f81-4ece-4dca-b34f-b6b036ee1f40",
   "metadata": {},
   "outputs": [
    {
     "name": "stdout",
     "output_type": "stream",
     "text": [
      "100 is the maximum\n"
     ]
    }
   ],
   "source": [
    "# Define two numbers\n",
    "num1 = 100\n",
    "num2 = 2\n",
    "\n",
    "# Compare the numbers using if-else statements\n",
    "if num1 > num2:\n",
    "    # Print num1 if it is greater than num2\n",
    "    print(num1, \"is the maximum\")\n",
    "elif num1 < num2:\n",
    "    # Print num2 if it is greater than num1\n",
    "    print(num2, \"is the maximum\")\n",
    "else:\n",
    "    # Print both numbers if they are equal\n",
    "    print(\"Both\", num1, \"and\", num2, \"are equal\")\n"
   ]
  },
  {
   "cell_type": "code",
   "execution_count": 8,
   "id": "1ac5c5de-f2f6-4f2c-afe4-3707f24f8795",
   "metadata": {},
   "outputs": [],
   "source": [
    "# 4. Write a Python script to classify a given year as a leap year or not."
   ]
  },
  {
   "cell_type": "code",
   "execution_count": 7,
   "id": "a0a799b5-0180-43ec-84eb-83b1213b3d64",
   "metadata": {},
   "outputs": [
    {
     "name": "stdout",
     "output_type": "stream",
     "text": [
      "2023 is not a leap year\n"
     ]
    }
   ],
   "source": [
    "# Define a year\n",
    "year = 2023\n",
    "\n",
    "# Check if the year is divisible by 4\n",
    "if year % 4 == 0:\n",
    "    # Check if the year is divisible by 100\n",
    "    if year % 100 == 0:\n",
    "        # Check if the year is divisible by 400\n",
    "        if year % 400 == 0:\n",
    "            # Print that the year is a leap year\n",
    "            print(year, \"is a leap year\")\n",
    "        else:\n",
    "            # Print that the year is not a leap year\n",
    "            print(year, \"is not a leap year\")\n",
    "    else:\n",
    "        # Print that the year is a leap year\n",
    "        print(year, \"is a leap year\")\n",
    "else:\n",
    "    # Print that the year is not a leap year\n",
    "    print(year, \"is not a leap year\")\n"
   ]
  },
  {
   "cell_type": "code",
   "execution_count": 9,
   "id": "729ccf8b-9807-42ed-8559-ba5e9372b8df",
   "metadata": {},
   "outputs": [],
   "source": [
    "# 5. Create a program that checks whether a character is a vowel or a consonant."
   ]
  },
  {
   "cell_type": "code",
   "execution_count": 10,
   "id": "0189a504-e927-4fda-bf1e-ba49789aebbd",
   "metadata": {},
   "outputs": [
    {
     "name": "stdout",
     "output_type": "stream",
     "text": [
      "a is a vowel\n"
     ]
    }
   ],
   "source": [
    "# Define a character\n",
    "char = \"a\"\n",
    "\n",
    "# Convert the character to lowercase\n",
    "char = char.lower()\n",
    "\n",
    "# Define a list of vowels\n",
    "vowels = [\"a\", \"e\", \"i\", \"o\", \"u\"]\n",
    "\n",
    "# Check if the character is in the list of vowels\n",
    "if char in vowels:\n",
    "    # Print that the character is a vowel\n",
    "    print(char, \"is a vowel\")\n",
    "else:\n",
    "    # Print that the character is a consonant\n",
    "    print(char, \"is a consonant\")\n"
   ]
  },
  {
   "cell_type": "code",
   "execution_count": 11,
   "id": "33ddff55-cd98-47ee-acea-7ee69b1a015d",
   "metadata": {},
   "outputs": [],
   "source": [
    "# 6. Implement a program to determine whether a given number is even or odd."
   ]
  },
  {
   "cell_type": "code",
   "execution_count": 12,
   "id": "3c609a31-12cd-43d7-ba53-5fec17057d20",
   "metadata": {},
   "outputs": [
    {
     "name": "stdout",
     "output_type": "stream",
     "text": [
      "15 is odd\n"
     ]
    }
   ],
   "source": [
    "# Define a number\n",
    "num = 15\n",
    "\n",
    "# Check if the number is divisible by 2\n",
    "if num % 2 == 0:\n",
    "    # Print that the number is even\n",
    "    print(num, \"is even\")\n",
    "else:\n",
    "    # Print that the number is odd\n",
    "    print(num, \"is odd\")\n"
   ]
  },
  {
   "cell_type": "code",
   "execution_count": 13,
   "id": "cf6d2ee1-72eb-4512-917d-bf4ce4aadcd5",
   "metadata": {},
   "outputs": [],
   "source": [
    "# 7. Write a Python function to calculate the absolute value of a number without using the `abs()` function."
   ]
  },
  {
   "cell_type": "code",
   "execution_count": 14,
   "id": "638ee220-fa0a-4c67-b009-ebdb7959ec0e",
   "metadata": {},
   "outputs": [
    {
     "name": "stdout",
     "output_type": "stream",
     "text": [
      "5\n",
      "3\n",
      "0\n"
     ]
    }
   ],
   "source": [
    "# Define a function to calculate the absolute value\n",
    "def absolute_value(num):\n",
    "    # Check if the number is negative\n",
    "    if num < 0:\n",
    "        # Return the negative of the number\n",
    "        return -num\n",
    "    else:\n",
    "        # Return the number as it is\n",
    "        return num\n",
    "\n",
    "# Test the function with some examples\n",
    "print(absolute_value(5)) # Prints 5\n",
    "print(absolute_value(-3)) # Prints 3\n",
    "print(absolute_value(0)) # Prints 0\n"
   ]
  },
  {
   "cell_type": "code",
   "execution_count": 15,
   "id": "d543e044-941f-4373-9e26-1bb26fab949d",
   "metadata": {},
   "outputs": [],
   "source": [
    "# 8. Develop a program that determines the largest of three given numbers using if-else statements."
   ]
  },
  {
   "cell_type": "code",
   "execution_count": 16,
   "id": "4572ace8-0e84-4404-ae0c-3b523da00486",
   "metadata": {},
   "outputs": [
    {
     "name": "stdout",
     "output_type": "stream",
     "text": [
      "20 is the largest\n"
     ]
    }
   ],
   "source": [
    "# Define three numbers\n",
    "num1 = 10\n",
    "num2 = 20\n",
    "num3 = 15\n",
    "\n",
    "# Compare the numbers using if-else statements\n",
    "if num1 > num2 and num1 > num3:\n",
    "    # Print num1 if it is the largest\n",
    "    print(num1, \"is the largest\")\n",
    "elif num2 > num1 and num2 > num3:\n",
    "    # Print num2 if it is the largest\n",
    "    print(num2, \"is the largest\")\n",
    "else:\n",
    "    # Print num3 if it is the largest\n",
    "    print(num3, \"is the largest\")\n"
   ]
  },
  {
   "cell_type": "code",
   "execution_count": 17,
   "id": "3d1df22b-9441-4c7e-a9b2-4f737b80326c",
   "metadata": {},
   "outputs": [],
   "source": [
    "# 9. Create a program that checks if a given string is a palindrome."
   ]
  },
  {
   "cell_type": "code",
   "execution_count": 18,
   "id": "57e01fb0-54ad-4431-84d3-a696c6119005",
   "metadata": {},
   "outputs": [
    {
     "name": "stdout",
     "output_type": "stream",
     "text": [
      "madam is a palindrome\n"
     ]
    }
   ],
   "source": [
    "# Define a string\n",
    "string = \"madam\"\n",
    "\n",
    "# Convert the string to lowercase\n",
    "string = string.lower()\n",
    "\n",
    "# Reverse the string\n",
    "reversed_string = string[::-1]\n",
    "\n",
    "# Check if the string and the reversed string are equal\n",
    "if string == reversed_string:\n",
    "    # Print that the string is a palindrome\n",
    "    print(string, \"is a palindrome\")\n",
    "else:\n",
    "    # Print that the string is not a palindrome\n",
    "    print(string, \"is not a palindrome\")\n"
   ]
  },
  {
   "cell_type": "code",
   "execution_count": 19,
   "id": "656e37e3-b184-4789-9333-ba4464c4c3ed",
   "metadata": {},
   "outputs": [],
   "source": [
    "# 10. Write a Python program to calculate the grade based on a student's score."
   ]
  },
  {
   "cell_type": "code",
   "execution_count": 20,
   "id": "325abb8f-1485-4f2a-8401-a447b6dbf106",
   "metadata": {},
   "outputs": [
    {
     "name": "stdout",
     "output_type": "stream",
     "text": [
      "A\n",
      "B\n",
      "C\n",
      "D\n",
      "F\n"
     ]
    }
   ],
   "source": [
    "# Define a function to calculate the grade\n",
    "def grade(score):\n",
    "    # Check the range of the score\n",
    "    if score >= 90:\n",
    "        # Return A for 90 and above\n",
    "        return \"A\"\n",
    "    elif score >= 80:\n",
    "        # Return B for 80 to 89\n",
    "        return \"B\"\n",
    "    elif score >= 70:\n",
    "        # Return C for 70 to 79\n",
    "        return \"C\"\n",
    "    elif score >= 60:\n",
    "        # Return D for 60 to 69\n",
    "        return \"D\"\n",
    "    else:\n",
    "        # Return F for below 60\n",
    "        return \"F\"\n",
    "\n",
    "# Test the function with some examples\n",
    "print(grade(95)) # Prints A\n",
    "print(grade(85)) # Prints B\n",
    "print(grade(75)) # Prints C\n",
    "print(grade(65)) # Prints D\n",
    "print(grade(55)) # Prints F\n"
   ]
  },
  {
   "cell_type": "code",
   "execution_count": 21,
   "id": "d6c4e529-8864-498c-ae5b-4472cb835e72",
   "metadata": {},
   "outputs": [],
   "source": [
    "# 11. Write a program to find the largest among three numbers using nested if-else statements."
   ]
  },
  {
   "cell_type": "code",
   "execution_count": 22,
   "id": "c82ed295-3175-48d4-b1da-eb326f601dcc",
   "metadata": {},
   "outputs": [
    {
     "name": "stdout",
     "output_type": "stream",
     "text": [
      "20 is the largest\n"
     ]
    }
   ],
   "source": [
    "# Define three numbers\n",
    "num1 = 10\n",
    "num2 = 20\n",
    "num3 = 15\n",
    "\n",
    "# Compare the numbers using nested if-else statements\n",
    "if num1 > num2:\n",
    "    # Check if num1 is greater than num3\n",
    "    if num1 > num3:\n",
    "        # Print num1 if it is the largest\n",
    "        print(num1, \"is the largest\")\n",
    "    else:\n",
    "        # Print num3 if it is the largest\n",
    "        print(num3, \"is the largest\")\n",
    "else:\n",
    "    # Check if num2 is greater than num3\n",
    "    if num2 > num3:\n",
    "        # Print num2 if it is the largest\n",
    "        print(num2, \"is the largest\")\n",
    "    else:\n",
    "        # Print num3 if it is the largest\n",
    "        print(num3, \"is the largest\")\n"
   ]
  },
  {
   "cell_type": "code",
   "execution_count": 23,
   "id": "e702ea0a-d9f1-4ae7-adb9-cf0e9b27ccd1",
   "metadata": {},
   "outputs": [],
   "source": [
    "# 12. Implement a program to determine if a triangle is equilateral, isosceles, or scalene."
   ]
  },
  {
   "cell_type": "code",
   "execution_count": 24,
   "id": "707ceb55-d9f6-4660-a75e-2c92d1b2145d",
   "metadata": {},
   "outputs": [
    {
     "name": "stdout",
     "output_type": "stream",
     "text": [
      "The triangle is equilateral\n"
     ]
    }
   ],
   "source": [
    "# Define the lengths of the three sides of a triangle\n",
    "a = 5\n",
    "b = 5\n",
    "c = 5\n",
    "\n",
    "# Check if the triangle is valid\n",
    "if a + b > c and b + c > a and c + a > b:\n",
    "    # Check if the triangle is equilateral\n",
    "    if a == b == c:\n",
    "        # Print that the triangle is equilateral\n",
    "        print(\"The triangle is equilateral\")\n",
    "    # Check if the triangle is isosceles\n",
    "    elif a == b or b == c or c == a:\n",
    "        # Print that the triangle is isosceles\n",
    "        print(\"The triangle is isosceles\")\n",
    "    # Check if the triangle is scalene\n",
    "    else:\n",
    "        # Print that the triangle is scalene\n",
    "        print(\"The triangle is scalene\")\n",
    "else:\n",
    "    # Print that the triangle is invalid\n",
    "    print(\"The triangle is invalid\")\n"
   ]
  },
  {
   "cell_type": "code",
   "execution_count": 25,
   "id": "30c542ac-aa50-4182-b1da-f202446dbc38",
   "metadata": {},
   "outputs": [],
   "source": [
    "# 13. Develop a program that checks if a year is a leap year and also if it is a century year."
   ]
  },
  {
   "cell_type": "code",
   "execution_count": 26,
   "id": "0099c51d-14d6-44c2-8232-f0b820192e03",
   "metadata": {},
   "outputs": [
    {
     "name": "stdout",
     "output_type": "stream",
     "text": [
      "2023 is not a leap year and not a century year\n"
     ]
    }
   ],
   "source": [
    "# Define a year\n",
    "year = 2023\n",
    "\n",
    "# Check if the year is divisible by 4\n",
    "if year % 4 == 0:\n",
    "    # Check if the year is divisible by 100\n",
    "    if year % 100 == 0:\n",
    "        # Check if the year is divisible by 400\n",
    "        if year % 400 == 0:\n",
    "            # Print that the year is a leap year and a century year\n",
    "            print(year, \"is a leap year and a century year\")\n",
    "        else:\n",
    "            # Print that the year is not a leap year but a century year\n",
    "            print(year, \"is not a leap year but a century year\")\n",
    "    else:\n",
    "        # Print that the year is a leap year but not a century year\n",
    "        print(year, \"is a leap year but not a century year\")\n",
    "else:\n",
    "    # Print that the year is not a leap year and not a century year\n",
    "    print(year, \"is not a leap year and not a century year\")\n"
   ]
  },
  {
   "cell_type": "code",
   "execution_count": 27,
   "id": "15a3e8e0-f3ae-4e5e-ad17-a33781f8e2ca",
   "metadata": {},
   "outputs": [],
   "source": [
    "# 14. Write a Python script to determine if a number is positive, negative, or zero."
   ]
  },
  {
   "cell_type": "code",
   "execution_count": 28,
   "id": "5a1aa1ae-f748-424c-99c4-e53eff927665",
   "metadata": {},
   "outputs": [
    {
     "name": "stdout",
     "output_type": "stream",
     "text": [
      "10 is positive\n"
     ]
    }
   ],
   "source": [
    "# Define a number\n",
    "num = 10\n",
    "\n",
    "# Check the sign of the number\n",
    "if num > 0:\n",
    "    # Print that the number is positive\n",
    "    print(num, \"is positive\")\n",
    "elif num < 0:\n",
    "    # Print that the number is negative\n",
    "    print(num, \"is negative\")\n",
    "else:\n",
    "    # Print that the number is zero\n",
    "    print(num, \"is zero\")\n"
   ]
  },
  {
   "cell_type": "code",
   "execution_count": 29,
   "id": "1ffaa383-72d2-4cdb-a3b3-153777ee0c69",
   "metadata": {},
   "outputs": [],
   "source": [
    "# 15. Create a program to check if a person is a teenager (between 13 and 19 years old)."
   ]
  },
  {
   "cell_type": "code",
   "execution_count": 30,
   "id": "8b37a0af-486c-4acd-8815-0672db695eeb",
   "metadata": {},
   "outputs": [
    {
     "name": "stdout",
     "output_type": "stream",
     "text": [
      "The person is a teenager\n"
     ]
    }
   ],
   "source": [
    "# Define the age of a person\n",
    "age = 16\n",
    "\n",
    "# Check if the age is between 13 and 19\n",
    "if age >= 13 and age <= 19:\n",
    "    # Print that the person is a teenager\n",
    "    print(\"The person is a teenager\")\n",
    "else:\n",
    "    # Print that the person is not a teenager\n",
    "    print(\"The person is not a teenager\")\n"
   ]
  },
  {
   "cell_type": "code",
   "execution_count": 31,
   "id": "e40cf089-9e4e-4726-860b-a84f9e0b31e7",
   "metadata": {},
   "outputs": [],
   "source": [
    "# 16. Develop a program that determines the type of angle based on its measure (acute, obtuse, or right)."
   ]
  },
  {
   "cell_type": "code",
   "execution_count": 32,
   "id": "258f1fdb-6fa8-40d2-a7bd-296c69e75db6",
   "metadata": {},
   "outputs": [
    {
     "name": "stdout",
     "output_type": "stream",
     "text": [
      "The angle is right\n"
     ]
    }
   ],
   "source": [
    "# Define the measure of an angle in degrees\n",
    "angle = 90\n",
    "\n",
    "# Check the range of the angle\n",
    "if angle > 0 and angle < 90:\n",
    "    # Print that the angle is acute\n",
    "    print(\"The angle is acute\")\n",
    "elif angle == 90:\n",
    "    # Print that the angle is right\n",
    "    print(\"The angle is right\")\n",
    "elif angle > 90 and angle < 180:\n",
    "    # Print that the angle is obtuse\n",
    "    print(\"The angle is obtuse\")\n",
    "else:\n",
    "    # Print that the angle is invalid\n",
    "    print(\"The angle is invalid\")\n"
   ]
  },
  {
   "cell_type": "code",
   "execution_count": 34,
   "id": "d8c2d35b-9bd8-4744-88ee-f240fb5c56ab",
   "metadata": {},
   "outputs": [],
   "source": [
    "# 17. Write a Python program to calculate the roots of a quadratic equation."
   ]
  },
  {
   "cell_type": "code",
   "execution_count": 35,
   "id": "fa0d0421-760b-4e56-8a17-5d3d9d76a292",
   "metadata": {},
   "outputs": [
    {
     "name": "stdout",
     "output_type": "stream",
     "text": [
      "The roots are 3.0 and 2.0\n"
     ]
    }
   ],
   "source": [
    "# Import the math module to use the square root function\n",
    "import math\n",
    "\n",
    "# Define the values of a, b, and c\n",
    "a = 1\n",
    "b = -5\n",
    "c = 6\n",
    "\n",
    "# Calculate the discriminant\n",
    "d = b**2 - 4*a*c\n",
    "\n",
    "# Check if the discriminant is positive, zero, or negative\n",
    "if d > 0:\n",
    "    # Calculate the two real and distinct roots\n",
    "    root1 = (-b + math.sqrt(d)) / (2*a)\n",
    "    root2 = (-b - math.sqrt(d)) / (2*a)\n",
    "    # Print the roots\n",
    "    print(\"The roots are\", root1, \"and\", root2)\n",
    "elif d == 0:\n",
    "    # Calculate the one real and repeated root\n",
    "    root = -b / (2*a)\n",
    "    # Print the root\n",
    "    print(\"The root is\", root)\n",
    "else:\n",
    "    # Calculate the two complex and conjugate roots\n",
    "    real = -b / (2*a)\n",
    "    imag = math.sqrt(-d) / (2*a)\n",
    "    # Print the roots\n",
    "    print(\"The roots are\", real, \"+\", imag, \"i and\", real, \"-\", imag, \"i\")\n"
   ]
  },
  {
   "cell_type": "code",
   "execution_count": 36,
   "id": "22fc7130-68a1-4612-a34f-03960bb3576b",
   "metadata": {},
   "outputs": [],
   "source": [
    "# 18. Implement a program to determine the day of the week based on a user-provided number (1 for Monday, 2\n",
    "# for Tuesday, etc.)."
   ]
  },
  {
   "cell_type": "code",
   "execution_count": 37,
   "id": "70454962-d87a-4a4b-9606-ac23d6561d65",
   "metadata": {},
   "outputs": [
    {
     "name": "stdout",
     "output_type": "stream",
     "text": [
      "Monday\n",
      "Friday\n",
      "Invalid number\n"
     ]
    }
   ],
   "source": [
    "# Define a function to determine the day of the week\n",
    "def day_of_week(num):\n",
    "    # Check if the number is between 1 and 7\n",
    "    if num >= 1 and num <= 7:\n",
    "        # Define a list of days\n",
    "        days = [\"Monday\", \"Tuesday\", \"Wednesday\", \"Thursday\", \"Friday\", \"Saturday\", \"Sunday\"]\n",
    "        # Return the corresponding day from the list\n",
    "        return days[num-1]\n",
    "    else:\n",
    "        # Return an error message\n",
    "        return \"Invalid number\"\n",
    "\n",
    "# Test the function with some examples\n",
    "print(day_of_week(1)) # Prints Monday\n",
    "print(day_of_week(5)) # Prints Friday\n",
    "print(day_of_week(8)) # Prints Invalid number\n"
   ]
  },
  {
   "cell_type": "code",
   "execution_count": 38,
   "id": "c64c9d00-2287-4c75-8aaa-e6f03db09c8e",
   "metadata": {},
   "outputs": [],
   "source": [
    "# 19. Create a program that determines if a year is a leap year and also if it is evenly divisible by 400."
   ]
  },
  {
   "cell_type": "code",
   "execution_count": 39,
   "id": "7aeadd9c-c48b-4d35-af98-55c549d10e66",
   "metadata": {},
   "outputs": [
    {
     "name": "stdout",
     "output_type": "stream",
     "text": [
      "2023 is not a leap year and not divisible by 4, 100, or 400\n"
     ]
    }
   ],
   "source": [
    "# Define a year\n",
    "year = 2023\n",
    "\n",
    "# Check if the year is divisible by 4\n",
    "if year % 4 == 0:\n",
    "    # Check if the year is divisible by 100\n",
    "    if year % 100 == 0:\n",
    "        # Check if the year is divisible by 400\n",
    "        if year % 400 == 0:\n",
    "            # Print that the year is a leap year and divisible by 400\n",
    "            print(year, \"is a leap year and divisible by 400\")\n",
    "        else:\n",
    "            # Print that the year is not a leap year but divisible by 100\n",
    "            print(year, \"is not a leap year but divisible by 100\")\n",
    "    else:\n",
    "        # Print that the year is a leap year but not divisible by 100 or 400\n",
    "        print(year, \"is a leap year but not divisible by 100 or 400\")\n",
    "else:\n",
    "    # Print that the year is not a leap year and not divisible by 4, 100, or 400\n",
    "    print(year, \"is not a leap year and not divisible by 4, 100, or 400\")\n"
   ]
  },
  {
   "cell_type": "code",
   "execution_count": 40,
   "id": "052230cc-f4b8-4b58-844b-6fe89187b51f",
   "metadata": {},
   "outputs": [],
   "source": [
    "# 20. Develop a program that checks if a given number is prime or not using nested if-else statements."
   ]
  },
  {
   "cell_type": "code",
   "execution_count": 41,
   "id": "e75770ab-e7c2-495c-98f7-24d2a43c7186",
   "metadata": {},
   "outputs": [
    {
     "name": "stdout",
     "output_type": "stream",
     "text": [
      "17 is prime\n"
     ]
    }
   ],
   "source": [
    "# Define a number\n",
    "num = 17\n",
    "\n",
    "# Check if the number is greater than 1\n",
    "if num > 1:\n",
    "    # Loop from 2 to the square root of the number\n",
    "    for i in range(2, int(math.sqrt(num)) + 1):\n",
    "        # Check if the number is divisible by i\n",
    "        if num % i == 0:\n",
    "            # Print that the number is not prime and break the loop\n",
    "            print(num, \"is not prime\")\n",
    "            break\n",
    "    else:\n",
    "        # Print that the number is prime\n",
    "        print(num, \"is prime\")\n",
    "else:\n",
    "    # Print that the number is not prime\n",
    "    print(num, \"is not prime\")\n"
   ]
  },
  {
   "cell_type": "code",
   "execution_count": 1,
   "id": "d7fc9631-486f-404a-82de-6ff0048705a3",
   "metadata": {},
   "outputs": [],
   "source": [
    "# 21. Write a Python program to assign grades based on different ranges of scores using elif statements."
   ]
  },
  {
   "cell_type": "code",
   "execution_count": 2,
   "id": "33437abc-6da8-44fc-a819-9486aae608d6",
   "metadata": {},
   "outputs": [
    {
     "name": "stdin",
     "output_type": "stream",
     "text": [
      "Enter the student's score:  20\n"
     ]
    },
    {
     "name": "stdout",
     "output_type": "stream",
     "text": [
      "The student's grade is: F\n"
     ]
    }
   ],
   "source": [
    "# Input the student's score\n",
    "score = float(input(\"Enter the student's score: \"))\n",
    "\n",
    "# Define the grade ranges and corresponding grades\n",
    "if 90 <= score <= 100:\n",
    "    grade = 'A'\n",
    "elif 80 <= score < 90:\n",
    "    grade = 'B'\n",
    "elif 70 <= score < 80:\n",
    "    grade = 'C'\n",
    "elif 60 <= score < 70:\n",
    "    grade = 'D'\n",
    "elif 0 <= score < 60:\n",
    "    grade = 'F'\n",
    "else:\n",
    "    grade = 'Invalid'\n",
    "\n",
    "# Display the grade\n",
    "if grade == 'Invalid':\n",
    "    print(\"Invalid score. Please enter a score between 0 and 100.\")\n",
    "else:\n",
    "    print(f\"The student's grade is: {grade}\")\n"
   ]
  },
  {
   "cell_type": "code",
   "execution_count": 3,
   "id": "6583bea8-8b9a-4d1f-9299-f08e248185a0",
   "metadata": {},
   "outputs": [],
   "source": [
    "# 22. Implement a program to determine the type of a triangle based on its angles."
   ]
  },
  {
   "cell_type": "code",
   "execution_count": 4,
   "id": "9f418dc3-642c-47a5-8021-4969941f277e",
   "metadata": {},
   "outputs": [
    {
     "name": "stdin",
     "output_type": "stream",
     "text": [
      "Enter the first angle in degrees:  45\n",
      "Enter the second angle in degrees:  45\n",
      "Enter the third angle in degrees:  90\n"
     ]
    },
    {
     "name": "stdout",
     "output_type": "stream",
     "text": [
      "The triangle is a Isosceles Triangle.\n"
     ]
    }
   ],
   "source": [
    "# Input the angles of the triangle\n",
    "angle1 = float(input(\"Enter the first angle in degrees: \"))\n",
    "angle2 = float(input(\"Enter the second angle in degrees: \"))\n",
    "angle3 = float(input(\"Enter the third angle in degrees: \"))\n",
    "\n",
    "# Check if the angles form a valid triangle (sum of angles should be 180 degrees)\n",
    "angle_sum = angle1 + angle2 + angle3\n",
    "\n",
    "if angle_sum == 180:\n",
    "    # Check the type of triangle based on angles\n",
    "    if angle1 == angle2 == angle3:\n",
    "        triangle_type = \"Equilateral Triangle\"\n",
    "    elif angle1 == angle2 or angle1 == angle3 or angle2 == angle3:\n",
    "        triangle_type = \"Isosceles Triangle\"\n",
    "    else:\n",
    "        triangle_type = \"Scalene Triangle\"\n",
    "else:\n",
    "    triangle_type = \"Invalid Triangle (Sum of angles is not 180 degrees)\"\n",
    "\n",
    "# Display the type of triangle\n",
    "print(f\"The triangle is a {triangle_type}.\")\n"
   ]
  },
  {
   "cell_type": "code",
   "execution_count": 6,
   "id": "f850d484-0dcd-4b4f-8fc4-8b4e5f638233",
   "metadata": {},
   "outputs": [],
   "source": [
    "# 23. Develop a program to categorize a given person's BMI into underweight, normal, overweight, or obese using\n",
    "# elif statements."
   ]
  },
  {
   "cell_type": "code",
   "execution_count": 7,
   "id": "59379d74-a35d-47b0-a399-b46ad1819069",
   "metadata": {},
   "outputs": [
    {
     "name": "stdin",
     "output_type": "stream",
     "text": [
      "Enter weight (in kilograms):  96\n",
      "Enter height (in meters):  183\n"
     ]
    },
    {
     "name": "stdout",
     "output_type": "stream",
     "text": [
      "The person's BMI is 0.00, which is classified as Underweight.\n"
     ]
    }
   ],
   "source": [
    "# Input the person's weight (in kilograms) and height (in meters)\n",
    "weight = float(input(\"Enter weight (in kilograms): \"))\n",
    "height = float(input(\"Enter height (in meters): \"))\n",
    "\n",
    "# Calculate BMI (BMI = weight / (height * height))\n",
    "bmi = weight / (height * height)\n",
    "\n",
    "# Determine the BMI category\n",
    "if bmi < 18.5:\n",
    "    category = \"Underweight\"\n",
    "elif 18.5 <= bmi < 24.9:\n",
    "    category = \"Normal Weight\"\n",
    "elif 25.0 <= bmi < 29.9:\n",
    "    category = \"Overweight\"\n",
    "else:\n",
    "    category = \"Obese\"\n",
    "\n",
    "# Display the BMI category\n",
    "print(f\"The person's BMI is {bmi:.2f}, which is classified as {category}.\")\n"
   ]
  },
  {
   "cell_type": "code",
   "execution_count": 8,
   "id": "76523555-f744-4208-93fc-9db80a12be82",
   "metadata": {},
   "outputs": [],
   "source": [
    "# 24. Create a program that determines whether a given number is positive, negative, or zero using elif\n",
    "# statements."
   ]
  },
  {
   "cell_type": "code",
   "execution_count": 9,
   "id": "99dc7711-58c9-4871-8ee8-e611b018cb57",
   "metadata": {},
   "outputs": [
    {
     "name": "stdin",
     "output_type": "stream",
     "text": [
      "Enter a number:  90\n"
     ]
    },
    {
     "name": "stdout",
     "output_type": "stream",
     "text": [
      "The number is Positive.\n"
     ]
    }
   ],
   "source": [
    "# Input a number\n",
    "number = float(input(\"Enter a number: \"))\n",
    "\n",
    "# Check if the number is positive, negative, or zero\n",
    "if number > 0:\n",
    "    result = \"Positive\"\n",
    "elif number < 0:\n",
    "    result = \"Negative\"\n",
    "else:\n",
    "    result = \"Zero\"\n",
    "\n",
    "# Display the result\n",
    "print(f\"The number is {result}.\")\n"
   ]
  },
  {
   "cell_type": "code",
   "execution_count": 10,
   "id": "03c9502c-e71d-43ab-80af-a53a8c7ec94f",
   "metadata": {},
   "outputs": [],
   "source": [
    "# 25. Write a Python script to determine the type of a character (uppercase, lowercase, or special) using elif\n",
    "# statements."
   ]
  },
  {
   "cell_type": "code",
   "execution_count": 11,
   "id": "2a9a210b-50dc-4a3f-8719-1ef8057c71b4",
   "metadata": {},
   "outputs": [
    {
     "name": "stdin",
     "output_type": "stream",
     "text": [
      "Enter a character:  AYUSH\n"
     ]
    },
    {
     "name": "stdout",
     "output_type": "stream",
     "text": [
      "The character 'AYUSH' is a Uppercase character.\n"
     ]
    }
   ],
   "source": [
    "# Input a character\n",
    "char = input(\"Enter a character: \")\n",
    "\n",
    "# Check if the character is uppercase, lowercase, or special\n",
    "if char.isupper():\n",
    "    char_type = \"Uppercase\"\n",
    "elif char.islower():\n",
    "    char_type = \"Lowercase\"\n",
    "else:\n",
    "    char_type = \"Special Character\"\n",
    "\n",
    "# Display the character type\n",
    "print(f\"The character '{char}' is a {char_type} character.\")\n"
   ]
  },
  {
   "cell_type": "code",
   "execution_count": 12,
   "id": "087e2ec8-a71b-4e58-af2f-3a97aac029bc",
   "metadata": {},
   "outputs": [],
   "source": [
    "# 26. Implement a program to calculate the discounted price based on different purchase amounts using elif\n",
    "# statements."
   ]
  },
  {
   "cell_type": "code",
   "execution_count": 14,
   "id": "9455f81f-5196-4222-8d72-53d46b1097a3",
   "metadata": {},
   "outputs": [
    {
     "name": "stdin",
     "output_type": "stream",
     "text": [
      "Enter the purchase amount:  1000\n"
     ]
    },
    {
     "name": "stdout",
     "output_type": "stream",
     "text": [
      "Original Price: rs1000.00\n",
      "Discounted Price: rs850.00\n"
     ]
    }
   ],
   "source": [
    "# Input the purchase amount\n",
    "purchase_amount = float(input(\"Enter the purchase amount: \"))\n",
    "\n",
    "# Initialize variables for discount rates\n",
    "discount_rate = 0.0\n",
    "discounted_price = 0.0\n",
    "\n",
    "# Determine the discount rate based on the purchase amount\n",
    "if purchase_amount < 100:\n",
    "    discount_rate = 0.0  # No discount\n",
    "elif purchase_amount < 500:\n",
    "    discount_rate = 0.05  # 5% discount\n",
    "elif purchase_amount < 1000:\n",
    "    discount_rate = 0.1  # 10% discount\n",
    "else:\n",
    "    discount_rate = 0.15  # 15% discount\n",
    "\n",
    "# Calculate the discounted price\n",
    "discounted_price = purchase_amount - (purchase_amount * discount_rate)\n",
    "\n",
    "# Display the discounted price\n",
    "print(f\"Original Price: rs{purchase_amount:.2f}\")\n",
    "print(f\"Discounted Price: rs{discounted_price:.2f}\")\n"
   ]
  },
  {
   "cell_type": "code",
   "execution_count": 15,
   "id": "680003b9-e7e1-4536-af1d-db0a3e688443",
   "metadata": {},
   "outputs": [],
   "source": [
    "# 27. Develop a program to calculate the electricity bill based on different consumption slabs using elif\n",
    "# statements."
   ]
  },
  {
   "cell_type": "code",
   "execution_count": 17,
   "id": "ce8eb229-c727-4c13-a6a5-c61de4638110",
   "metadata": {},
   "outputs": [
    {
     "name": "stdin",
     "output_type": "stream",
     "text": [
      "Enter the electricity consumption in kWh:  20\n"
     ]
    },
    {
     "name": "stdout",
     "output_type": "stream",
     "text": [
      "Electricity Consumption: 20.0 kWh\n",
      "Rate per Unit: Rs0.10 per kWh\n",
      "Electricity Bill: Rs2.00\n"
     ]
    }
   ],
   "source": [
    "# Input the electricity consumption in kilowatt-hours\n",
    "consumption = float(input(\"Enter the electricity consumption in kWh: \"))\n",
    "\n",
    "# Initialize variables for the electricity bill and rates\n",
    "electricity_bill = 0.0\n",
    "rate_per_unit = 0.0\n",
    "\n",
    "# Determine the rate per unit based on consumption slabs\n",
    "if consumption <= 100:\n",
    "    rate_per_unit = 0.10  # $0.10 per kWh for the first 100 kWh\n",
    "elif consumption <= 200:\n",
    "    rate_per_unit = 0.15  # $0.15 per kWh for the next 100 kWh\n",
    "elif consumption <= 300:\n",
    "    rate_per_unit = 0.20  # $0.20 per kWh for the next 100 kWh\n",
    "else:\n",
    "    rate_per_unit = 0.25  # $0.25 per kWh for any consumption above 300 kWh\n",
    "\n",
    "# Calculate the electricity bill\n",
    "electricity_bill = consumption * rate_per_unit\n",
    "\n",
    "# Display the electricity bill\n",
    "print(f\"Electricity Consumption: {consumption} kWh\")\n",
    "print(f\"Rate per Unit: Rs{rate_per_unit:.2f} per kWh\")\n",
    "print(f\"Electricity Bill: Rs{electricity_bill:.2f}\")\n"
   ]
  },
  {
   "cell_type": "code",
   "execution_count": 18,
   "id": "2a9bab62-8cf9-4bcd-80bc-0970208d46d0",
   "metadata": {},
   "outputs": [],
   "source": [
    "# 28. Create a program to determine the type of quadrilateral based on its angles and sides using elif\n",
    "# statements."
   ]
  },
  {
   "cell_type": "code",
   "execution_count": 20,
   "id": "d9d23810-bb68-497a-bb1e-97a9f70a8256",
   "metadata": {},
   "outputs": [
    {
     "name": "stdin",
     "output_type": "stream",
     "text": [
      "Enter the first angle in degrees:  56\n",
      "Enter the second angle in degrees:  56\n",
      "Enter the third angle in degrees:  47\n",
      "Enter the fourth angle in degrees:  89\n",
      "Enter the length of the first side:  24\n",
      "Enter the length of the second side:  39\n",
      "Enter the length of the third side:  38\n",
      "Enter the length of the fourth side:  50\n"
     ]
    },
    {
     "name": "stdout",
     "output_type": "stream",
     "text": [
      "The quadrilateral is a Invalid Quadrilateral (Sum of angles is not 360 degrees).\n"
     ]
    }
   ],
   "source": [
    "# Input the angles (in degrees) and sides (in units) of the quadrilateral\n",
    "angle1 = float(input(\"Enter the first angle in degrees: \"))\n",
    "angle2 = float(input(\"Enter the second angle in degrees: \"))\n",
    "angle3 = float(input(\"Enter the third angle in degrees: \"))\n",
    "angle4 = float(input(\"Enter the fourth angle in degrees: \"))\n",
    "side1 = float(input(\"Enter the length of the first side: \"))\n",
    "side2 = float(input(\"Enter the length of the second side: \"))\n",
    "side3 = float(input(\"Enter the length of the third side: \"))\n",
    "side4 = float(input(\"Enter the length of the fourth side: \"))\n",
    "\n",
    "# Check if it's a valid quadrilateral (sum of angles should be 360 degrees)\n",
    "angle_sum = angle1 + angle2 + angle3 + angle4\n",
    "\n",
    "if angle_sum == 360:\n",
    "    # Check the type of quadrilateral based on angles and sides\n",
    "    if angle1 == angle2 == angle3 == angle4 == 90:\n",
    "        if side1 == side2 == side3 == side4:\n",
    "            quadrilateral_type = \"Square\"\n",
    "        else:\n",
    "            quadrilateral_type = \"Rectangle\"\n",
    "    elif side1 == side2 == side3 == side4:\n",
    "        if angle1 == angle2 == angle3 == angle4:\n",
    "            quadrilateral_type = \"Rhombus\"\n",
    "        else:\n",
    "            quadrilateral_type = \"Parallelogram\"\n",
    "    else:\n",
    "        quadrilateral_type = \"Quadrilateral (Other)\"\n",
    "else:\n",
    "    quadrilateral_type = \"Invalid Quadrilateral (Sum of angles is not 360 degrees)\"\n",
    "\n",
    "# Display the type of quadrilateral\n",
    "print(f\"The quadrilateral is a {quadrilateral_type}.\")\n"
   ]
  },
  {
   "cell_type": "code",
   "execution_count": 21,
   "id": "c5ae4db0-a538-4bec-86cf-7401b47e95ed",
   "metadata": {},
   "outputs": [],
   "source": [
    "# 29. Write a Python script to determine the season based on a user-provided month using elif statements."
   ]
  },
  {
   "cell_type": "code",
   "execution_count": 22,
   "id": "ce1e195e-782f-4fc7-bbcd-6289faf878bd",
   "metadata": {},
   "outputs": [
    {
     "name": "stdin",
     "output_type": "stream",
     "text": [
      "Enter a month as a number (1-12):  5\n"
     ]
    },
    {
     "name": "stdout",
     "output_type": "stream",
     "text": [
      "The season for month 5 is Spring.\n"
     ]
    }
   ],
   "source": [
    "# Input the month as a number (1-12)\n",
    "month = int(input(\"Enter a month as a number (1-12): \"))\n",
    "\n",
    "# Determine the season based on the month\n",
    "if 3 <= month <= 5:\n",
    "    season = \"Spring\"\n",
    "elif 6 <= month <= 8:\n",
    "    season = \"Summer\"\n",
    "elif 9 <= month <= 11:\n",
    "    season = \"Autumn\"\n",
    "else:\n",
    "    season = \"Winter\"\n",
    "\n",
    "# Display the season\n",
    "print(f\"The season for month {month} is {season}.\")\n"
   ]
  },
  {
   "cell_type": "code",
   "execution_count": 23,
   "id": "2d3702dd-9af0-4af7-b24c-cfe90345b83b",
   "metadata": {},
   "outputs": [],
   "source": [
    "# 30. Write a program that calculates the BMI (Body Mass Index) and provides health recommendations based\n",
    "# on the user's input."
   ]
  },
  {
   "cell_type": "code",
   "execution_count": 25,
   "id": "5fa9ec5e-cf72-4e3a-8e68-35e47864354f",
   "metadata": {},
   "outputs": [
    {
     "name": "stdin",
     "output_type": "stream",
     "text": [
      "Enter your weight (in kilograms):  96\n",
      "Enter your height (in meters):  183\n"
     ]
    },
    {
     "name": "stdout",
     "output_type": "stream",
     "text": [
      "Your BMI is: 0.00\n",
      "You are underweight. Consider consulting a healthcare professional for advice.\n"
     ]
    }
   ],
   "source": [
    "# Input the user's weight (in kilograms) and height (in meters)\n",
    "weight = float(input(\"Enter your weight (in kilograms): \"))\n",
    "height = float(input(\"Enter your height (in meters): \"))\n",
    "\n",
    "# Calculate BMI (BMI = weight / (height * height))\n",
    "bmi = weight / (height * height)\n",
    "\n",
    "# Display the calculated BMI\n",
    "print(f\"Your BMI is: {bmi:.2f}\")\n",
    "\n",
    "# Provide health recommendations based on BMI\n",
    "if bmi < 18.5:\n",
    "    print(\"You are underweight. Consider consulting a healthcare professional for advice.\")\n",
    "elif 18.5 <= bmi < 24.9:\n",
    "    print(\"Your BMI is in the normal range. Keep up the good work!\")\n",
    "elif 25 <= bmi < 29.9:\n",
    "    print(\"You are overweight. Consider maintaining a balanced diet and exercising regularly.\")\n",
    "elif 30 <= bmi < 34.9:\n",
    "    print(\"You are in the obese class I category. It's advisable to seek medical guidance.\")\n",
    "elif 35 <= bmi < 39.9:\n",
    "    print(\"You are in the obese class II category. Seek medical advice and consider lifestyle changes.\")\n",
    "else:\n",
    "    print(\"You are in the obese class III category. Immediate medical attention and lifestyle changes are recommended.\")\n"
   ]
  },
  {
   "cell_type": "code",
   "execution_count": 1,
   "id": "89e520d7-7af8-4563-aea0-996236bb669b",
   "metadata": {},
   "outputs": [],
   "source": [
    "# 1. Write a Python program that checks if a given number is positive, negative, or zero."
   ]
  },
  {
   "cell_type": "code",
   "execution_count": 2,
   "id": "af454947-d9fe-4685-b134-135cdb4b308a",
   "metadata": {},
   "outputs": [
    {
     "name": "stdin",
     "output_type": "stream",
     "text": [
      "Enter a number:  7\n"
     ]
    },
    {
     "name": "stdout",
     "output_type": "stream",
     "text": [
      "The number is positive.\n"
     ]
    }
   ],
   "source": [
    "# Input a number from the user\n",
    "number = float(input(\"Enter a number: \"))\n",
    "\n",
    "# Check if the number is positive, negative, or zero\n",
    "if number > 0:\n",
    "    print(\"The number is positive.\")\n",
    "elif number < 0:\n",
    "    print(\"The number is negative.\")\n",
    "else:\n",
    "    print(\"The number is zero.\")\n"
   ]
  },
  {
   "cell_type": "code",
   "execution_count": 3,
   "id": "0dbf9668-c3ac-4c52-887b-687d4db29fe2",
   "metadata": {},
   "outputs": [],
   "source": [
    "# 2. Create a program to determine if a person is eligible to vote based on their age."
   ]
  },
  {
   "cell_type": "code",
   "execution_count": 5,
   "id": "6801aa78-8a7c-4dc1-ab8a-f6ae8cbf0050",
   "metadata": {},
   "outputs": [
    {
     "name": "stdin",
     "output_type": "stream",
     "text": [
      "Enter your age:  23\n"
     ]
    },
    {
     "name": "stdout",
     "output_type": "stream",
     "text": [
      "You are eligible to vote.\n"
     ]
    }
   ],
   "source": [
    "# Input the person's age\n",
    "age = int(input(\"Enter your age: \"))\n",
    "\n",
    "# Check if the person is eligible to vote\n",
    "if age >= 18:\n",
    "    print(\"You are eligible to vote.\")\n",
    "else:\n",
    "    print(\"You are not eligible to vote.\")"
   ]
  },
  {
   "cell_type": "code",
   "execution_count": 6,
   "id": "93678a60-9eb7-4fce-8218-96c85eb1b7d4",
   "metadata": {},
   "outputs": [],
   "source": [
    "# 3. Write a program to find the maximum of two given numbers using conditional statements."
   ]
  },
  {
   "cell_type": "code",
   "execution_count": 7,
   "id": "3f49d960-f7f0-4d63-8107-4d92754eff22",
   "metadata": {},
   "outputs": [
    {
     "name": "stdin",
     "output_type": "stream",
     "text": [
      "Enter the first number:  12\n",
      "Enter the second number:  23\n"
     ]
    },
    {
     "name": "stdout",
     "output_type": "stream",
     "text": [
      "The maximum number is: 23.0\n"
     ]
    }
   ],
   "source": [
    "# Input two numbers from the user\n",
    "num1 = float(input(\"Enter the first number: \"))\n",
    "num2 = float(input(\"Enter the second number: \"))\n",
    "\n",
    "# Compare the two numbers to find the maximum\n",
    "if num1 > num2:\n",
    "    max_num = num1\n",
    "else:\n",
    "    max_num = num2\n",
    "\n",
    "# Print the maximum number\n",
    "print(\"The maximum number is:\", max_num)\n"
   ]
  },
  {
   "cell_type": "code",
   "execution_count": 8,
   "id": "64fb877c-eee8-4aae-87d7-2b8ef48f6686",
   "metadata": {},
   "outputs": [],
   "source": [
    "# 4. Develop a program that calculates the grade of a student based on their exam score."
   ]
  },
  {
   "cell_type": "code",
   "execution_count": 9,
   "id": "904f7d51-0722-46ae-b033-1b44cdee8579",
   "metadata": {},
   "outputs": [
    {
     "name": "stdin",
     "output_type": "stream",
     "text": [
      "Enter the exam score:  77\n"
     ]
    },
    {
     "name": "stdout",
     "output_type": "stream",
     "text": [
      "The grade for the exam score 77.0 is: C\n"
     ]
    }
   ],
   "source": [
    "# Input the exam score from the user\n",
    "exam_score = float(input(\"Enter the exam score: \"))\n",
    "\n",
    "# Define grade boundaries and assign grades based on the score\n",
    "if exam_score >= 90:\n",
    "    grade = \"A\"\n",
    "elif exam_score >= 80:\n",
    "    grade = \"B\"\n",
    "elif exam_score >= 70:\n",
    "    grade = \"C\"\n",
    "elif exam_score >= 60:\n",
    "    grade = \"D\"\n",
    "else:\n",
    "    grade = \"F\"\n",
    "\n",
    "# Print the grade\n",
    "print(f\"The grade for the exam score {exam_score} is: {grade}\")\n"
   ]
  },
  {
   "cell_type": "code",
   "execution_count": 10,
   "id": "aca5c1af-f2f3-464a-96b5-16a0f2d78086",
   "metadata": {},
   "outputs": [],
   "source": [
    "# 5. Create a program that checks if a year is a leap year or not."
   ]
  },
  {
   "cell_type": "code",
   "execution_count": 11,
   "id": "d48ff904-cded-4b94-8cfc-4ac16468e5d9",
   "metadata": {},
   "outputs": [
    {
     "name": "stdin",
     "output_type": "stream",
     "text": [
      "Enter a year:  1999\n"
     ]
    },
    {
     "name": "stdout",
     "output_type": "stream",
     "text": [
      "1999 is not a leap year.\n"
     ]
    }
   ],
   "source": [
    "# Input a year from the user\n",
    "year = int(input(\"Enter a year: \"))\n",
    "\n",
    "# Check if it's a leap year\n",
    "if (year % 4 == 0 and year % 100 != 0) or (year % 400 == 0):\n",
    "    print(f\"{year} is a leap year.\")\n",
    "else:\n",
    "    print(f\"{year} is not a leap year.\")\n"
   ]
  },
  {
   "cell_type": "code",
   "execution_count": 13,
   "id": "21b0807c-2cc6-4aae-8877-85a3dad625b8",
   "metadata": {},
   "outputs": [],
   "source": [
    "# 6. Write a program to classify a triangle based on its sides' lengths."
   ]
  },
  {
   "cell_type": "code",
   "execution_count": 14,
   "id": "e6033d9d-e142-488f-9bc9-998e9f0e2d4e",
   "metadata": {},
   "outputs": [
    {
     "name": "stdin",
     "output_type": "stream",
     "text": [
      "Enter the length of the first side:  12\n",
      "Enter the length of the second side:  11\n",
      "Enter the length of the third side:  14\n"
     ]
    },
    {
     "name": "stdout",
     "output_type": "stream",
     "text": [
      "The triangle is a Scalene Triangle.\n"
     ]
    }
   ],
   "source": [
    "# Input the lengths of the three sides of the triangle\n",
    "side1 = float(input(\"Enter the length of the first side: \"))\n",
    "side2 = float(input(\"Enter the length of the second side: \"))\n",
    "side3 = float(input(\"Enter the length of the third side: \"))\n",
    "\n",
    "# Check the triangle classification based on side lengths\n",
    "if side1 == side2 == side3:\n",
    "    triangle_type = \"Equilateral Triangle\"\n",
    "elif side1 == side2 or side1 == side3 or side2 == side3:\n",
    "    triangle_type = \"Isosceles Triangle\"\n",
    "else:\n",
    "    triangle_type = \"Scalene Triangle\"\n",
    "\n",
    "# Print the classification result\n",
    "print(f\"The triangle is a {triangle_type}.\")\n"
   ]
  },
  {
   "cell_type": "code",
   "execution_count": 15,
   "id": "72ba15fd-2ff9-4eaf-903d-5cf09efac8f6",
   "metadata": {},
   "outputs": [],
   "source": [
    "# 7. Build a program that determines the largest of three given numbers."
   ]
  },
  {
   "cell_type": "code",
   "execution_count": 16,
   "id": "d2353683-bbb4-44fa-bc79-b15bfa5c1324",
   "metadata": {},
   "outputs": [
    {
     "name": "stdin",
     "output_type": "stream",
     "text": [
      "Enter the first number:  11\n",
      "Enter the second number:  111\n",
      "Enter the third number:  11\n"
     ]
    },
    {
     "name": "stdout",
     "output_type": "stream",
     "text": [
      "The largest number is: 111.0\n"
     ]
    }
   ],
   "source": [
    "# Input three numbers from the user\n",
    "num1 = float(input(\"Enter the first number: \"))\n",
    "num2 = float(input(\"Enter the second number: \"))\n",
    "num3 = float(input(\"Enter the third number: \"))\n",
    "\n",
    "# Determine the largest number\n",
    "if num1 >= num2 and num1 >= num3:\n",
    "    largest_num = num1\n",
    "elif num2 >= num1 and num2 >= num3:\n",
    "    largest_num = num2\n",
    "else:\n",
    "    largest_num = num3\n",
    "\n",
    "# Print the largest number\n",
    "print(f\"The largest number is: {largest_num}\")\n",
    "\n"
   ]
  },
  {
   "cell_type": "code",
   "execution_count": 17,
   "id": "035b2d71-5caa-41ee-a13c-6400049b5982",
   "metadata": {},
   "outputs": [],
   "source": [
    "# 8. Develop a program that checks whether a character is a vowel or a consonant."
   ]
  },
  {
   "cell_type": "code",
   "execution_count": 19,
   "id": "eb17c976-706f-4c10-bafe-284208b71893",
   "metadata": {},
   "outputs": [
    {
     "name": "stdin",
     "output_type": "stream",
     "text": [
      "Enter a character:  q\n"
     ]
    },
    {
     "name": "stdout",
     "output_type": "stream",
     "text": [
      "The character 'q' is a consonant.\n"
     ]
    }
   ],
   "source": [
    "# Input a character from the user (assuming a single character)\n",
    "char = input(\"Enter a character: \")\n",
    "\n",
    "# Convert the input to lowercase for case-insensitive comparison\n",
    "char = char.lower()\n",
    "\n",
    "# Check if the input is a single character and if it's a letter\n",
    "if len(char) == 1 and char.isalpha():\n",
    "    if char in \"aeiou\":\n",
    "        print(f\"The character '{char}' is a vowel.\")\n",
    "    else:\n",
    "        print(f\"The character '{char}' is a consonant.\")\n",
    "else:\n",
    "    print(\"Please enter a valid single alphabetical character.\")\n"
   ]
  },
  {
   "cell_type": "code",
   "execution_count": 20,
   "id": "a94bcf03-1782-4488-97c1-380a42952749",
   "metadata": {},
   "outputs": [],
   "source": [
    "# 9. Create a program to calculate the total cost of a shopping cart based on discounts."
   ]
  },
  {
   "cell_type": "code",
   "execution_count": 1,
   "id": "2a020116-92c6-4ab5-9e43-fd3d07cc389f",
   "metadata": {},
   "outputs": [
    {
     "name": "stdin",
     "output_type": "stream",
     "text": [
      "Enter an item (or 'done' to finish shopping):  122\n",
      "Enter the quantity of 122:  2\n"
     ]
    },
    {
     "name": "stdout",
     "output_type": "stream",
     "text": [
      "Item not found. Please enter a valid item.\n"
     ]
    },
    {
     "name": "stdin",
     "output_type": "stream",
     "text": [
      "Enter an item (or 'done' to finish shopping):  done\n"
     ]
    },
    {
     "name": "stdout",
     "output_type": "stream",
     "text": [
      "Total cost: $0.00\n",
      "Discounted total cost: $0.00\n"
     ]
    }
   ],
   "source": [
    "# Define the items and their prices in a dictionary\n",
    "item_prices = {\n",
    "    \"item1\": 10.0,\n",
    "    \"item2\": 15.0,\n",
    "    \"item3\": 8.0,\n",
    "    \"item4\": 12.0,\n",
    "    \"item5\": 20.0\n",
    "}\n",
    "\n",
    "# Initialize the total cost\n",
    "total_cost = 0.0\n",
    "\n",
    "# Input the items and quantities from the user\n",
    "while True:\n",
    "    item = input(\"Enter an item (or 'done' to finish shopping): \").lower()\n",
    "    if item == \"done\":\n",
    "        break\n",
    "\n",
    "    quantity = int(input(f\"Enter the quantity of {item}: \"))\n",
    "    \n",
    "    # Check if the item exists in the item_prices dictionary\n",
    "    if item in item_prices:\n",
    "        total_cost += item_prices[item] * quantity\n",
    "    else:\n",
    "        print(\"Item not found. Please enter a valid item.\")\n",
    "\n",
    "# Apply a discount based on the total cost\n",
    "if total_cost >= 50.0:\n",
    "    discount = 0.1  # 10% discount for total cost >= $50\n",
    "else:\n",
    "    discount = 0.0  # No discount for total cost < $50\n",
    "\n",
    "# Calculate the discounted total cost\n",
    "discounted_total_cost = total_cost * (1 - discount)\n",
    "\n",
    "# Print the total cost and discounted total cost\n",
    "print(f\"Total cost: ${total_cost:.2f}\")\n",
    "print(f\"Discounted total cost: ${discounted_total_cost:.2f}\")\n"
   ]
  },
  {
   "cell_type": "code",
   "execution_count": null,
   "id": "c3c06f48-426a-427f-aef9-402d347b3bcf",
   "metadata": {},
   "outputs": [],
   "source": [
    "# 10. Write a program that checks if a given number is even or odd."
   ]
  },
  {
   "cell_type": "code",
   "execution_count": 3,
   "id": "05a0435f-0c94-4031-998b-30885a9f1a81",
   "metadata": {},
   "outputs": [
    {
     "name": "stdin",
     "output_type": "stream",
     "text": [
      "Enter a number:  16\n"
     ]
    },
    {
     "name": "stdout",
     "output_type": "stream",
     "text": [
      "16 is even.\n"
     ]
    }
   ],
   "source": [
    "# Input a number from the user\n",
    "number = int(input(\"Enter a number: \"))\n",
    "\n",
    "# Check if the number is even or odd\n",
    "if number % 2 == 0:\n",
    "    print(f\"{number} is even.\")\n",
    "else:\n",
    "    print(f\"{number} is odd.\")\n"
   ]
  },
  {
   "cell_type": "code",
   "execution_count": 4,
   "id": "ad5c78eb-53ed-4674-b44e-e74562e0666c",
   "metadata": {},
   "outputs": [],
   "source": [
    "# 11. Write a program that calculates the roots of a quadratic equation ."
   ]
  },
  {
   "cell_type": "code",
   "execution_count": 5,
   "id": "9c300a7b-52c2-4448-846b-24f32f37b3f4",
   "metadata": {},
   "outputs": [
    {
     "name": "stdin",
     "output_type": "stream",
     "text": [
      "Enter coefficient a:  1\n",
      "Enter coefficient b:  4\n",
      "Enter coefficient c:  1\n"
     ]
    },
    {
     "name": "stdout",
     "output_type": "stream",
     "text": [
      "Root 1: -0.2679491924311228\n",
      "Root 2: -3.732050807568877\n"
     ]
    }
   ],
   "source": [
    "import math\n",
    "\n",
    "# Input coefficients\n",
    "a = float(input(\"Enter coefficient a: \"))\n",
    "b = float(input(\"Enter coefficient b: \"))\n",
    "c = float(input(\"Enter coefficient c: \"))\n",
    "\n",
    "# Calculate the discriminant\n",
    "discriminant = b**2 - 4 * a * c\n",
    "\n",
    "# Check if the discriminant is positive, zero, or negative\n",
    "if discriminant > 0:\n",
    "    # Two real and distinct roots\n",
    "    root1 = (-b + math.sqrt(discriminant)) / (2 * a)\n",
    "    root2 = (-b - math.sqrt(discriminant)) / (2 * a)\n",
    "    print(f\"Root 1: {root1}\")\n",
    "    print(f\"Root 2: {root2}\")\n",
    "elif discriminant == 0:\n",
    "    # One real root (repeated)\n",
    "    root = -b / (2 * a)\n",
    "    print(f\"Root: {root}\")\n",
    "else:\n",
    "    # Complex roots\n",
    "    real_part = -b / (2 * a)\n",
    "    imaginary_part = math.sqrt(-discriminant) / (2 * a)\n",
    "    print(f\"Root 1: {real_part} + {imaginary_part}i\")\n",
    "    print(f\"Root 2: {real_part} - {imaginary_part}i\")\n"
   ]
  },
  {
   "cell_type": "code",
   "execution_count": 6,
   "id": "a5ac2775-9a43-443d-bf58-b5179f054a49",
   "metadata": {},
   "outputs": [],
   "source": [
    "# 12. Create a program that determines the day of the week based on the day number (1-7)."
   ]
  },
  {
   "cell_type": "code",
   "execution_count": 7,
   "id": "59dd4236-5ef3-4708-9718-eace1cf97bb0",
   "metadata": {},
   "outputs": [
    {
     "name": "stdin",
     "output_type": "stream",
     "text": [
      "Enter a day number (1-7):  6\n"
     ]
    },
    {
     "name": "stdout",
     "output_type": "stream",
     "text": [
      "The day corresponding to day number 6 is: Saturday\n"
     ]
    }
   ],
   "source": [
    "# Input the day number (1-7) from the user\n",
    "day_number = int(input(\"Enter a day number (1-7): \"))\n",
    "\n",
    "# Define a list of days of the week\n",
    "days_of_week = [\"Monday\", \"Tuesday\", \"Wednesday\", \"Thursday\", \"Friday\", \"Saturday\", \"Sunday\"]\n",
    "\n",
    "# Check if the day number is within the valid range\n",
    "if 1 <= day_number <= 7:\n",
    "    day_name = days_of_week[day_number - 1]  # Adjust for zero-based index\n",
    "    print(f\"The day corresponding to day number {day_number} is: {day_name}\")\n",
    "else:\n",
    "    print(\"Invalid day number. Please enter a number between 1 and 7.\")\n"
   ]
  },
  {
   "cell_type": "code",
   "execution_count": 8,
   "id": "5a9fe608-4100-422a-aa02-b8590939b683",
   "metadata": {},
   "outputs": [],
   "source": [
    "# 13. Develop a program that calculates the factorial of a given number using recursion."
   ]
  },
  {
   "cell_type": "code",
   "execution_count": 10,
   "id": "fb468c1c-8743-4590-b178-82597944ae59",
   "metadata": {},
   "outputs": [
    {
     "name": "stdin",
     "output_type": "stream",
     "text": [
      "Enter a non-negative integer:  3\n"
     ]
    },
    {
     "name": "stdout",
     "output_type": "stream",
     "text": [
      "The factorial of 3 is 6\n"
     ]
    }
   ],
   "source": [
    "def factorial(n):\n",
    "    if n == 0:\n",
    "        return 1\n",
    "    else:\n",
    "        return n * factorial(n - 1)\n",
    "\n",
    "# Input a number from the user\n",
    "num = int(input(\"Enter a non-negative integer: \"))\n",
    "\n",
    "if num < 0:\n",
    "    print(\"Factorial is undefined for negative numbers.\")\n",
    "else:\n",
    "    result = factorial(num)\n",
    "    print(f\"The factorial of {num} is {result}\")\n"
   ]
  },
  {
   "cell_type": "code",
   "execution_count": 11,
   "id": "bdcd0786-a212-4dc9-aeab-4551d35fa2fb",
   "metadata": {},
   "outputs": [],
   "source": [
    "# 14. Write a program to find the largest among three numbers without using the `max()` function."
   ]
  },
  {
   "cell_type": "code",
   "execution_count": 12,
   "id": "d3bca611-da2b-482b-8bd3-1d3a940898b3",
   "metadata": {},
   "outputs": [
    {
     "name": "stdin",
     "output_type": "stream",
     "text": [
      "Enter the first number:  12\n",
      "Enter the second number:  12\n",
      "Enter the third number:  13\n"
     ]
    },
    {
     "name": "stdout",
     "output_type": "stream",
     "text": [
      "The largest number among 12.0, 12.0, and 13.0 is: 13.0\n"
     ]
    }
   ],
   "source": [
    "# Input three numbers from the user\n",
    "num1 = float(input(\"Enter the first number: \"))\n",
    "num2 = float(input(\"Enter the second number: \"))\n",
    "num3 = float(input(\"Enter the third number: \"))\n",
    "\n",
    "# Initialize a variable to store the largest number\n",
    "largest = num1\n",
    "\n",
    "# Compare num2 with the current largest\n",
    "if num2 > largest:\n",
    "    largest = num2\n",
    "\n",
    "# Compare num3 with the current largest\n",
    "if num3 > largest:\n",
    "    largest = num3\n",
    "\n",
    "# Print the largest number\n",
    "print(f\"The largest number among {num1}, {num2}, and {num3} is: {largest}\")\n"
   ]
  },
  {
   "cell_type": "code",
   "execution_count": 13,
   "id": "aab3655e-6441-46cf-a35a-ff2d78dd4ff5",
   "metadata": {},
   "outputs": [],
   "source": [
    "# 15. Create a program that simulates a basic ATM transaction menu."
   ]
  },
  {
   "cell_type": "code",
   "execution_count": 14,
   "id": "df88f84c-08bb-498e-875a-047a2bbc4cd2",
   "metadata": {},
   "outputs": [
    {
     "name": "stdout",
     "output_type": "stream",
     "text": [
      "\n",
      "ATM Menu:\n",
      "1. Check Balance\n",
      "2. Deposit\n",
      "3. Withdraw\n",
      "4. Quit\n"
     ]
    },
    {
     "name": "stdin",
     "output_type": "stream",
     "text": [
      "Enter your choice (1/2/3/4):  1\n"
     ]
    },
    {
     "name": "stdout",
     "output_type": "stream",
     "text": [
      "Your balance is rs1000.00\n",
      "\n",
      "ATM Menu:\n",
      "1. Check Balance\n",
      "2. Deposit\n",
      "3. Withdraw\n",
      "4. Quit\n"
     ]
    },
    {
     "name": "stdin",
     "output_type": "stream",
     "text": [
      "Enter your choice (1/2/3/4):  4\n"
     ]
    },
    {
     "name": "stdout",
     "output_type": "stream",
     "text": [
      "Thank you for using the ATM. Have a great day!\n"
     ]
    }
   ],
   "source": [
    "# Initialize account balance\n",
    "balance = 1000\n",
    "\n",
    "# Display ATM menu\n",
    "while True:\n",
    "    print(\"\\nATM Menu:\")\n",
    "    print(\"1. Check Balance\")\n",
    "    print(\"2. Deposit\")\n",
    "    print(\"3. Withdraw\")\n",
    "    print(\"4. Quit\")\n",
    "\n",
    "    choice = input(\"Enter your choice (1/2/3/4): \")\n",
    "\n",
    "    if choice == \"1\":\n",
    "        # Check Balance\n",
    "        print(f\"Your balance is rs{balance:.2f}\")\n",
    "    elif choice == \"2\":\n",
    "        # Deposit\n",
    "        amount = float(input(\"Enter the deposit amount: \"))\n",
    "        balance += amount\n",
    "        print(f\"Deposited rs{amount:.2f}. Your new balance is rs{balance:.2f}\")\n",
    "    elif choice == \"3\":\n",
    "        # Withdraw\n",
    "        amount = float(input(\"Enter the withdrawal amount: \"))\n",
    "        if amount > balance:\n",
    "            print(\"Insufficient funds.\")\n",
    "        else:\n",
    "            balance -= amount\n",
    "            print(f\"Withdrew rs{amount:.2f}. Your new balance is rs{balance:.2f}\")\n",
    "    elif choice == \"4\":\n",
    "        # Quit\n",
    "        print(\"Thank you for using the ATM. Have a great day!\")\n",
    "        break\n",
    "    else:\n",
    "        print(\"Invalid choice. Please select a valid option (1/2/3/4).\")\n"
   ]
  },
  {
   "cell_type": "code",
   "execution_count": 15,
   "id": "7a2ab261-33d2-489d-a0bd-234c8992923c",
   "metadata": {},
   "outputs": [],
   "source": [
    "# 16. Build a program that checks if a given string is a palindrome or not."
   ]
  },
  {
   "cell_type": "code",
   "execution_count": 16,
   "id": "8a4e3c87-46c4-4c65-a4ce-8bd14987f6dd",
   "metadata": {},
   "outputs": [
    {
     "name": "stdin",
     "output_type": "stream",
     "text": [
      "Enter a string:  ayush\n"
     ]
    },
    {
     "name": "stdout",
     "output_type": "stream",
     "text": [
      "'ayush' is not a palindrome.\n"
     ]
    }
   ],
   "source": [
    "# Function to check if a string is a palindrome\n",
    "def is_palindrome(input_string):\n",
    "    # Remove spaces and convert to lowercase for case-insensitive comparison\n",
    "    input_string = input_string.replace(\" \", \"\").lower()\n",
    "    # Reverse the string and compare it to the original\n",
    "    return input_string == input_string[::-1]\n",
    "\n",
    "# Input a string from the user\n",
    "user_input = input(\"Enter a string: \")\n",
    "\n",
    "# Check if the input string is a palindrome\n",
    "if is_palindrome(user_input):\n",
    "    print(f\"'{user_input}' is a palindrome.\")\n",
    "else:\n",
    "    print(f\"'{user_input}' is not a palindrome.\")\n"
   ]
  },
  {
   "cell_type": "code",
   "execution_count": 18,
   "id": "ae2602c9-106a-425f-a8e4-257565c87529",
   "metadata": {},
   "outputs": [],
   "source": [
    "# 17. Write a program that calculates the average of a list of numbers, excluding the smallest and largest values."
   ]
  },
  {
   "cell_type": "code",
   "execution_count": 22,
   "id": "5e9f936a-b656-4fac-87f0-642c8ad832af",
   "metadata": {},
   "outputs": [
    {
     "name": "stdin",
     "output_type": "stream",
     "text": [
      "Enter a list of numbers separated by spaces:  1 2 3 4 \n"
     ]
    },
    {
     "name": "stdout",
     "output_type": "stream",
     "text": [
      "The average (excluding the smallest and largest values) is: 2.50\n"
     ]
    }
   ],
   "source": [
    "# Input a list of numbers from the user\n",
    "numbers = input(\"Enter a list of numbers separated by spaces: \").split()\n",
    "numbers = [float(num) for num in numbers]\n",
    "\n",
    "# Check if there are at least 3 numbers\n",
    "if len(numbers) < 3:\n",
    "    print(\"Please enter at least 3 numbers.\")\n",
    "else:\n",
    "    # Remove the smallest and largest values\n",
    "    numbers.remove(min(numbers))\n",
    "    numbers.remove(max(numbers))\n",
    "    \n",
    "    # Calculate the average of the remaining numbers\n",
    "    average = sum(numbers) / len(numbers)\n",
    "    \n",
    "    print(f\"The average (excluding the smallest and largest values) is: {average:.2f}\")\n"
   ]
  },
  {
   "cell_type": "code",
   "execution_count": 23,
   "id": "24c1312b-1b76-48b7-9e36-e1fa1602e25b",
   "metadata": {},
   "outputs": [],
   "source": [
    "# 18. Develop a program that converts a given temperature from Celsius to Fahrenheit."
   ]
  },
  {
   "cell_type": "code",
   "execution_count": 24,
   "id": "c06a8355-5eb2-4d9a-887f-14bd77256b92",
   "metadata": {},
   "outputs": [
    {
     "name": "stdin",
     "output_type": "stream",
     "text": [
      "Enter temperature in Celsius:  39\n"
     ]
    },
    {
     "name": "stdout",
     "output_type": "stream",
     "text": [
      "39.0 degrees Celsius is equal to 102.2 degrees Fahrenheit.\n"
     ]
    }
   ],
   "source": [
    "# Input temperature in Celsius from the user\n",
    "celsius = float(input(\"Enter temperature in Celsius: \"))\n",
    "\n",
    "# Convert Celsius to Fahrenheit\n",
    "fahrenheit = (celsius * 9/5) + 32\n",
    "\n",
    "# Display the result\n",
    "print(f\"{celsius} degrees Celsius is equal to {fahrenheit} degrees Fahrenheit.\")\n"
   ]
  },
  {
   "cell_type": "code",
   "execution_count": 25,
   "id": "1efb4b75-efd5-4e22-b6c1-c0b892ace678",
   "metadata": {},
   "outputs": [],
   "source": [
    "# 19. Create a program that simulates a basic calculator for addition, subtraction, multiplication, and division."
   ]
  },
  {
   "cell_type": "code",
   "execution_count": 27,
   "id": "fd3c0ac9-5041-4812-bcae-fa0d8c640b8e",
   "metadata": {},
   "outputs": [
    {
     "name": "stdout",
     "output_type": "stream",
     "text": [
      "Select operation:\n",
      "1. Addition\n",
      "2. Subtraction\n",
      "3. Multiplication\n",
      "4. Division\n"
     ]
    },
    {
     "name": "stdin",
     "output_type": "stream",
     "text": [
      "Enter choice (1/2/3/4):  2\n",
      "Enter first number:  1\n",
      "Enter second number:  2\n"
     ]
    },
    {
     "name": "stdout",
     "output_type": "stream",
     "text": [
      "Result of subtraction: -1.0\n"
     ]
    }
   ],
   "source": [
    "# Function to perform addition\n",
    "def add(x, y):\n",
    "    return x + y\n",
    "\n",
    "# Function to perform subtraction\n",
    "def subtract(x, y):\n",
    "    return x - y\n",
    "\n",
    "# Function to perform multiplication\n",
    "def multiply(x, y):\n",
    "    return x * y\n",
    "\n",
    "# Function to perform division\n",
    "def divide(x, y):\n",
    "    if y == 0:\n",
    "        return \"Division by zero is not allowed.\"\n",
    "    return x / y\n",
    "\n",
    "# Display calculator menu\n",
    "print(\"Select operation:\")\n",
    "print(\"1. Addition\")\n",
    "print(\"2. Subtraction\")\n",
    "print(\"3. Multiplication\")\n",
    "print(\"4. Division\")\n",
    "\n",
    "# Input choice from the user\n",
    "choice = input(\"Enter choice (1/2/3/4): \")\n",
    "\n",
    "if choice in (\"1\", \"2\", \"3\", \"4\"):\n",
    "    # Input numbers from the user\n",
    "    num1 = float(input(\"Enter first number: \"))\n",
    "    num2 = float(input(\"Enter second number: \"))\n",
    "\n",
    "    if choice == \"1\":\n",
    "        result = add(num1, num2)\n",
    "        operation = \"addition\"\n",
    "    elif choice == \"2\":\n",
    "        result = subtract(num1, num2)\n",
    "        operation = \"subtraction\"\n",
    "    elif choice == \"3\":\n",
    "        result = multiply(num1, num2)\n",
    "        operation = \"multiplication\"\n",
    "    else:\n",
    "        result = divide(num1, num2)\n",
    "        operation = \"division\"\n",
    "\n",
    "    print(f\"Result of {operation}: {result}\")\n",
    "else:\n",
    "    print(\"Invalid input. Please choose a valid operation (1/2/3/4).\")\n"
   ]
  },
  {
   "cell_type": "code",
   "execution_count": 28,
   "id": "5d24c93f-b83e-4027-820a-dc00182706f9",
   "metadata": {},
   "outputs": [],
   "source": [
    "# 20. Write a program that determines the roots of a cubic equation using the Cardano formula."
   ]
  },
  {
   "cell_type": "code",
   "execution_count": 29,
   "id": "2fc43bcb-9366-4578-8a32-c2e3f6cdc881",
   "metadata": {},
   "outputs": [
    {
     "name": "stdin",
     "output_type": "stream",
     "text": [
      "Enter coefficient a:  2\n",
      "Enter coefficient b:  3\n",
      "Enter coefficient c:  4\n",
      "Enter coefficient d:  5\n"
     ]
    },
    {
     "name": "stdout",
     "output_type": "stream",
     "text": [
      "The roots of the cubic equation are:\n",
      "Root 1: 0.450278+1.051593j\n"
     ]
    }
   ],
   "source": [
    "import math\n",
    "\n",
    "# Function to find the roots of a cubic equation using the Cardano formula\n",
    "def find_cubic_roots(a, b, c, d):\n",
    "    # Calculate the discriminant and its cube root\n",
    "    p = (3 * a * c - b**2) / (3 * a**2)\n",
    "    q = (2 * b**3 - 9 * a * b * c + 27 * a**2 * d) / (27 * a**3)\n",
    "    discriminant = q**2/4 + p**3/27\n",
    "\n",
    "    if discriminant > 0:\n",
    "        # One real root and two complex roots\n",
    "        u = (-q/2 + discriminant**0.5)**(1/3)\n",
    "        v = (-q/2 - discriminant**0.5)**(1/3)\n",
    "        real_root = u + v - b / (3 * a)\n",
    "        return [real_root]\n",
    "    elif discriminant == 0:\n",
    "        # One real root (repeated)\n",
    "        u = (-q/2)**(1/3)\n",
    "        real_root = 2 * u - b / (3 * a)\n",
    "        return [real_root]\n",
    "    else:\n",
    "        # Three real roots\n",
    "        theta = math.acos(-q / 2 * (discriminant**(-3/2)))\n",
    "        u = 2 * (-q/2)**0.5\n",
    "        root1 = u * math.cos(theta / 3) - b / (3 * a)\n",
    "        root2 = u * math.cos((theta + 2 * math.pi) / 3) - b / (3 * a)\n",
    "        root3 = u * math.cos((theta + 4 * math.pi) / 3) - b / (3 * a)\n",
    "        return [root1, root2, root3]\n",
    "\n",
    "# Input coefficients of the cubic equation\n",
    "a = float(input(\"Enter coefficient a: \"))\n",
    "b = float(input(\"Enter coefficient b: \"))\n",
    "c = float(input(\"Enter coefficient c: \"))\n",
    "d = float(input(\"Enter coefficient d: \"))\n",
    "\n",
    "# Find the roots using the Cardano formula\n",
    "roots = find_cubic_roots(a, b, c, d)\n",
    "\n",
    "# Display the roots\n",
    "print(\"The roots of the cubic equation are:\")\n",
    "for i, root in enumerate(roots):\n",
    "    print(f\"Root {i+1}: {root:.6f}\")\n"
   ]
  },
  {
   "cell_type": "code",
   "execution_count": 30,
   "id": "aaf6be22-16c8-4430-bce3-c8efa20ac4a3",
   "metadata": {},
   "outputs": [],
   "source": [
    "# 21. Create a program that calculates the income tax based on the user's income and tax brackets."
   ]
  },
  {
   "cell_type": "code",
   "execution_count": 32,
   "id": "52571560-808c-4352-9e59-58807b9edbc4",
   "metadata": {},
   "outputs": [
    {
     "name": "stdin",
     "output_type": "stream",
     "text": [
      "Enter your annual income:  4000000\n"
     ]
    },
    {
     "name": "stdout",
     "output_type": "stream",
     "text": [
      "Your income tax is: Rs1583999.10\n"
     ]
    }
   ],
   "source": [
    "# Define tax brackets and rates\n",
    "tax_brackets = [(0, 10000, 0.10), (10001, 50000, 0.20), (50001, 100000, 0.30), (100001, float(\"inf\"), 0.40)]\n",
    "\n",
    "# Input user's income\n",
    "income = float(input(\"Enter your annual income: \"))\n",
    "\n",
    "# Initialize total tax\n",
    "total_tax = 0\n",
    "\n",
    "# Calculate income tax\n",
    "for bracket in tax_brackets:\n",
    "    min_income, max_income, rate = bracket\n",
    "    if income <= min_income:\n",
    "        tax = 0\n",
    "    elif income <= max_income:\n",
    "        tax = (income - min_income) * rate\n",
    "    else:\n",
    "        tax = (max_income - min_income) * rate\n",
    "    total_tax += tax\n",
    "\n",
    "# Display the calculated income tax\n",
    "print(f\"Your income tax is: Rs{total_tax:.2f}\")\n"
   ]
  },
  {
   "cell_type": "code",
   "execution_count": 33,
   "id": "507e7db7-ba17-4fea-a07c-64eb97e3e5b6",
   "metadata": {},
   "outputs": [],
   "source": [
    "# 22. Write a program that simulates a rock-paper-scissors game against the computer."
   ]
  },
  {
   "cell_type": "code",
   "execution_count": 34,
   "id": "f5c83d92-776e-4b70-b6c3-0b85bcadfb19",
   "metadata": {},
   "outputs": [
    {
     "name": "stdout",
     "output_type": "stream",
     "text": [
      "Rock-Paper-Scissors Game\n",
      "Enter your choice: rock, paper, or scissors\n",
      "To quit the game, enter 'quit'\n"
     ]
    },
    {
     "name": "stdin",
     "output_type": "stream",
     "text": [
      "Your choice:  quit\n"
     ]
    },
    {
     "name": "stdout",
     "output_type": "stream",
     "text": [
      "Thanks for playing. Goodbye!\n"
     ]
    }
   ],
   "source": [
    "import random\n",
    "\n",
    "# Function to get the computer's choice\n",
    "def get_computer_choice():\n",
    "    choices = [\"rock\", \"paper\", \"scissors\"]\n",
    "    return random.choice(choices)\n",
    "\n",
    "# Function to determine the winner\n",
    "def determine_winner(player_choice, computer_choice):\n",
    "    if player_choice == computer_choice:\n",
    "        return \"It's a tie!\"\n",
    "    elif (\n",
    "        (player_choice == \"rock\" and computer_choice == \"scissors\") or\n",
    "        (player_choice == \"scissors\" and computer_choice == \"paper\") or\n",
    "        (player_choice == \"paper\" and computer_choice == \"rock\")\n",
    "    ):\n",
    "        return \"You win!\"\n",
    "    else:\n",
    "        return \"Computer wins!\"\n",
    "\n",
    "# Display game instructions\n",
    "print(\"Rock-Paper-Scissors Game\")\n",
    "print(\"Enter your choice: rock, paper, or scissors\")\n",
    "print(\"To quit the game, enter 'quit'\")\n",
    "\n",
    "while True:\n",
    "    # Get player's choice\n",
    "    player_choice = input(\"Your choice: \").lower()\n",
    "\n",
    "    # Check if the player wants to quit the game\n",
    "    if player_choice == \"quit\":\n",
    "        print(\"Thanks for playing. Goodbye!\")\n",
    "        break\n",
    "\n",
    "    # Check if the player's choice is valid\n",
    "    if player_choice not in [\"rock\", \"paper\", \"scissors\"]:\n",
    "        print(\"Invalid choice. Please choose 'rock', 'paper', or 'scissors'.\")\n",
    "        continue\n",
    "\n",
    "    # Get the computer's choice\n",
    "    computer_choice = get_computer_choice()\n",
    "\n",
    "    # Determine the winner\n",
    "    result = determine_winner(player_choice, computer_choice)\n",
    "\n",
    "    # Display the results\n",
    "    print(f\"You chose {player_choice}. Computer chose {computer_choice}. {result}\")\n"
   ]
  },
  {
   "cell_type": "code",
   "execution_count": 35,
   "id": "e91a932c-0d3e-45bd-a4bf-7efe87ebb332",
   "metadata": {},
   "outputs": [],
   "source": [
    "# 23. Develop a program that generates a random password based on user preferences (length, complexity)."
   ]
  },
  {
   "cell_type": "code",
   "execution_count": 37,
   "id": "177df39d-1480-4631-b0b3-17b0faaab2ad",
   "metadata": {},
   "outputs": [
    {
     "name": "stdin",
     "output_type": "stream",
     "text": [
      "Enter the desired password length:  4\n",
      "Enter the desired complexity level (low/medium/high):  high\n"
     ]
    },
    {
     "name": "stdout",
     "output_type": "stream",
     "text": [
      "Generated password: >QnQ\n"
     ]
    }
   ],
   "source": [
    "import random\n",
    "import string\n",
    "\n",
    "# Function to generate a random password\n",
    "def generate_password(length, complexity):\n",
    "    if complexity == \"low\":\n",
    "        characters = string.ascii_letters\n",
    "    elif complexity == \"medium\":\n",
    "        characters = string.ascii_letters + string.digits\n",
    "    elif complexity == \"high\":\n",
    "        characters = string.ascii_letters + string.digits + string.punctuation\n",
    "    else:\n",
    "        return \"Invalid complexity level. Please choose 'low', 'medium', or 'high'.\"\n",
    "\n",
    "    password = ''.join(random.choice(characters) for _ in range(length))\n",
    "    return password\n",
    "\n",
    "# Input user preferences\n",
    "length = int(input(\"Enter the desired password length: \"))\n",
    "complexity = input(\"Enter the desired complexity level (low/medium/high): \").lower()\n",
    "\n",
    "# Generate and display the password\n",
    "password = generate_password(length, complexity)\n",
    "print(f\"Generated password: {password}\")\n"
   ]
  },
  {
   "cell_type": "code",
   "execution_count": 38,
   "id": "238eb8f3-4534-4c1e-9c60-adac0a2a8ef0",
   "metadata": {},
   "outputs": [],
   "source": [
    "# 24. Create a program that implements a simple text-based adventure game with branching scenarios."
   ]
  },
  {
   "cell_type": "code",
   "execution_count": 39,
   "id": "d1a3fa66-9cb4-4959-bf51-f2186fed7414",
   "metadata": {},
   "outputs": [
    {
     "name": "stdout",
     "output_type": "stream",
     "text": [
      "Welcome to the Text Adventure Game!\n",
      "You find yourself in a dark cave...\n"
     ]
    },
    {
     "name": "stdin",
     "output_type": "stream",
     "text": [
      "Do you want to go left or right?  right\n"
     ]
    },
    {
     "name": "stdout",
     "output_type": "stream",
     "text": [
      "You encounter a fierce dragon!\n"
     ]
    },
    {
     "name": "stdin",
     "output_type": "stream",
     "text": [
      "Do you want to fight it or run away?  runaway\n"
     ]
    },
    {
     "name": "stdout",
     "output_type": "stream",
     "text": [
      "Invalid choice. Try again.\n"
     ]
    },
    {
     "name": "stdin",
     "output_type": "stream",
     "text": [
      "Do you want to go left or right?  left\n"
     ]
    },
    {
     "name": "stdout",
     "output_type": "stream",
     "text": [
      "You see a treasure chest!\n"
     ]
    },
    {
     "name": "stdin",
     "output_type": "stream",
     "text": [
      "Do you want to open it? (yes/no):  np\n"
     ]
    },
    {
     "name": "stdout",
     "output_type": "stream",
     "text": [
      "Invalid choice. Try again.\n"
     ]
    },
    {
     "name": "stdin",
     "output_type": "stream",
     "text": [
      "Do you want to go left or right?  left\n"
     ]
    },
    {
     "name": "stdout",
     "output_type": "stream",
     "text": [
      "You see a treasure chest!\n"
     ]
    },
    {
     "name": "stdin",
     "output_type": "stream",
     "text": [
      "Do you want to open it? (yes/no):  no\n"
     ]
    },
    {
     "name": "stdout",
     "output_type": "stream",
     "text": [
      "You decide not to open the chest and continue exploring.\n"
     ]
    },
    {
     "name": "stdin",
     "output_type": "stream",
     "text": [
      "Do you want to go left or right?  break\n"
     ]
    },
    {
     "name": "stdout",
     "output_type": "stream",
     "text": [
      "Invalid direction. Try again.\n"
     ]
    },
    {
     "name": "stdin",
     "output_type": "stream",
     "text": [
      "Do you want to go left or right?  left\n"
     ]
    },
    {
     "name": "stdout",
     "output_type": "stream",
     "text": [
      "You see a treasure chest!\n"
     ]
    },
    {
     "name": "stdin",
     "output_type": "stream",
     "text": [
      "Do you want to open it? (yes/no):  yes\n"
     ]
    },
    {
     "name": "stdout",
     "output_type": "stream",
     "text": [
      "Congratulations! You found a treasure!\n"
     ]
    },
    {
     "name": "stdin",
     "output_type": "stream",
     "text": [
      "Do you want to start a new game? (yes/no):  no\n"
     ]
    },
    {
     "name": "stdout",
     "output_type": "stream",
     "text": [
      "Thanks for playing! Goodbye!\n"
     ]
    }
   ],
   "source": [
    "import time\n",
    "\n",
    "def print_slow(text):\n",
    "    for char in text:\n",
    "        print(char, end='', flush=True)\n",
    "        time.sleep(0.03)\n",
    "    print()\n",
    "\n",
    "def game_over():\n",
    "    print_slow(\"Game Over!\")\n",
    "    play_again = input(\"Do you want to play again? (yes/no): \").lower()\n",
    "    return play_again == \"yes\"\n",
    "\n",
    "def main():\n",
    "    print_slow(\"Welcome to the Text Adventure Game!\")\n",
    "    print_slow(\"You find yourself in a dark cave...\")\n",
    "    \n",
    "    while True:\n",
    "        choice1 = input(\"Do you want to go left or right? \").lower()\n",
    "        \n",
    "        if choice1 == \"left\":\n",
    "            print_slow(\"You see a treasure chest!\")\n",
    "            choice2 = input(\"Do you want to open it? (yes/no): \").lower()\n",
    "            \n",
    "            if choice2 == \"yes\":\n",
    "                print_slow(\"Congratulations! You found a treasure!\")\n",
    "                break\n",
    "            elif choice2 == \"no\":\n",
    "                print_slow(\"You decide not to open the chest and continue exploring.\")\n",
    "            else:\n",
    "                print_slow(\"Invalid choice. Try again.\")\n",
    "        elif choice1 == \"right\":\n",
    "            print_slow(\"You encounter a fierce dragon!\")\n",
    "            choice3 = input(\"Do you want to fight it or run away? \").lower()\n",
    "            \n",
    "            if choice3 == \"fight\":\n",
    "                print_slow(\"You bravely fight the dragon but get defeated.\")\n",
    "                if not game_over():\n",
    "                    break\n",
    "            elif choice3 == \"run away\":\n",
    "                print_slow(\"You wisely choose to run away and escape the dragon.\")\n",
    "            else:\n",
    "                print_slow(\"Invalid choice. Try again.\")\n",
    "        else:\n",
    "            print_slow(\"Invalid direction. Try again.\")\n",
    "\n",
    "if __name__ == \"__main__\":\n",
    "    while True:\n",
    "        main()\n",
    "        play_again = input(\"Do you want to start a new game? (yes/no): \").lower()\n",
    "        if play_again != \"yes\":\n",
    "            print_slow(\"Thanks for playing! Goodbye!\")\n",
    "            break\n"
   ]
  },
  {
   "cell_type": "code",
   "execution_count": 40,
   "id": "2bed7cf9-ff08-49a1-94d9-b359907d9261",
   "metadata": {},
   "outputs": [],
   "source": [
    "# 25. Build a program that solves a linear equation for x, considering different cases."
   ]
  },
  {
   "cell_type": "code",
   "execution_count": 41,
   "id": "3786893f-7b00-4e7d-85e1-d71368fda4d6",
   "metadata": {},
   "outputs": [
    {
     "name": "stdin",
     "output_type": "stream",
     "text": [
      "Enter coefficient a:  3\n",
      "Enter coefficient b:  5\n"
     ]
    },
    {
     "name": "stdout",
     "output_type": "stream",
     "text": [
      "The solution for x is: x = -1.67\n"
     ]
    }
   ],
   "source": [
    "# Input coefficients a and b from the user\n",
    "a = float(input(\"Enter coefficient a: \"))\n",
    "b = float(input(\"Enter coefficient b: \"))\n",
    "\n",
    "if a == 0:\n",
    "    if b == 0:\n",
    "        print(\"Infinite solutions: Any value of x is a solution.\")\n",
    "    else:\n",
    "        print(\"No solution: The equation is inconsistent.\")\n",
    "else:\n",
    "    x = -b / a\n",
    "    print(f\"The solution for x is: x = {x:.2f}\")\n"
   ]
  },
  {
   "cell_type": "code",
   "execution_count": 42,
   "id": "d742d39d-860f-4ce2-92cd-96cb8e5aed36",
   "metadata": {},
   "outputs": [],
   "source": [
    "# 26. Write a program that simulates a basic quiz game with multiple-choice questions and scoring."
   ]
  },
  {
   "cell_type": "code",
   "execution_count": 43,
   "id": "d82cb143-e283-49ab-aa2a-c0584c33aa59",
   "metadata": {},
   "outputs": [
    {
     "name": "stdout",
     "output_type": "stream",
     "text": [
      "Welcome to the Quiz Game!\n",
      "\n",
      "Question 1: What is the capital of France?\n",
      "1. London\n",
      "2. Berlin\n",
      "3. Paris\n",
      "4. Madrid\n"
     ]
    },
    {
     "name": "stdin",
     "output_type": "stream",
     "text": [
      "Your answer (1/2/3/4):  1\n"
     ]
    },
    {
     "name": "stdout",
     "output_type": "stream",
     "text": [
      "Wrong! The correct answer is: Paris\n",
      "\n",
      "Question 2: Which planet is known as the Red Planet?\n",
      "1. Mars\n",
      "2. Venus\n",
      "3. Jupiter\n",
      "4. Saturn\n"
     ]
    },
    {
     "name": "stdin",
     "output_type": "stream",
     "text": [
      "Your answer (1/2/3/4):  2\n"
     ]
    },
    {
     "name": "stdout",
     "output_type": "stream",
     "text": [
      "Wrong! The correct answer is: Mars\n",
      "\n",
      "Question 3: What is the largest mammal in the world?\n",
      "1. Elephant\n",
      "2. Blue Whale\n",
      "3. Giraffe\n",
      "4. Hippopotamus\n"
     ]
    },
    {
     "name": "stdin",
     "output_type": "stream",
     "text": [
      "Your answer (1/2/3/4):  2\n"
     ]
    },
    {
     "name": "stdout",
     "output_type": "stream",
     "text": [
      "Correct!\n",
      "\n",
      "Quiz completed! Your score is: 1/3\n"
     ]
    }
   ],
   "source": [
    "# Quiz questions and answers\n",
    "questions = [\n",
    "    {\n",
    "        \"question\": \"What is the capital of France?\",\n",
    "        \"options\": [\"London\", \"Berlin\", \"Paris\", \"Madrid\"],\n",
    "        \"answer\": \"Paris\"\n",
    "    },\n",
    "    {\n",
    "        \"question\": \"Which planet is known as the Red Planet?\",\n",
    "        \"options\": [\"Mars\", \"Venus\", \"Jupiter\", \"Saturn\"],\n",
    "        \"answer\": \"Mars\"\n",
    "    },\n",
    "    {\n",
    "        \"question\": \"What is the largest mammal in the world?\",\n",
    "        \"options\": [\"Elephant\", \"Blue Whale\", \"Giraffe\", \"Hippopotamus\"],\n",
    "        \"answer\": \"Blue Whale\"\n",
    "    }\n",
    "]\n",
    "\n",
    "# Function to display and grade the quiz\n",
    "def run_quiz(questions):\n",
    "    score = 0\n",
    "\n",
    "    for i, question in enumerate(questions, start=1):\n",
    "        print(f\"\\nQuestion {i}: {question['question']}\")\n",
    "        for j, option in enumerate(question['options'], start=1):\n",
    "            print(f\"{j}. {option}\")\n",
    "        \n",
    "        user_answer = input(\"Your answer (1/2/3/4): \")\n",
    "        if user_answer.isdigit() and 1 <= int(user_answer) <= 4:\n",
    "            user_choice = question['options'][int(user_answer) - 1]\n",
    "            if user_choice == question['answer']:\n",
    "                print(\"Correct!\")\n",
    "                score += 1\n",
    "            else:\n",
    "                print(f\"Wrong! The correct answer is: {question['answer']}\")\n",
    "        else:\n",
    "            print(\"Invalid choice. Skipping this question.\")\n",
    "\n",
    "    print(f\"\\nQuiz completed! Your score is: {score}/{len(questions)}\")\n",
    "\n",
    "# Run the quiz\n",
    "print(\"Welcome to the Quiz Game!\")\n",
    "run_quiz(questions)\n"
   ]
  },
  {
   "cell_type": "code",
   "execution_count": 44,
   "id": "15ff2a67-2b1b-4026-abb2-98af9e9c41da",
   "metadata": {},
   "outputs": [],
   "source": [
    "# 27. Develop a program that determines whether a given year is a prime number or not."
   ]
  },
  {
   "cell_type": "code",
   "execution_count": 45,
   "id": "a7bbf829-5f41-4cca-a94c-a9871f2c0c27",
   "metadata": {},
   "outputs": [
    {
     "name": "stdin",
     "output_type": "stream",
     "text": [
      "Enter a year:  1999\n"
     ]
    },
    {
     "name": "stdout",
     "output_type": "stream",
     "text": [
      "1999 is a prime year.\n"
     ]
    }
   ],
   "source": [
    "# Function to check if a year is prime\n",
    "def is_prime(year):\n",
    "    if year <= 1:\n",
    "        return False\n",
    "    if year <= 3:\n",
    "        return True\n",
    "\n",
    "    if year % 2 == 0 or year % 3 == 0:\n",
    "        return False\n",
    "\n",
    "    i = 5\n",
    "    while i * i <= year:\n",
    "        if year % i == 0 or year % (i + 2) == 0:\n",
    "            return False\n",
    "        i += 6\n",
    "\n",
    "    return True\n",
    "\n",
    "# Input a year from the user\n",
    "year = int(input(\"Enter a year: \"))\n",
    "\n",
    "# Check if the year is prime\n",
    "if is_prime(year):\n",
    "    print(f\"{year} is a prime year.\")\n",
    "else:\n",
    "    print(f\"{year} is not a prime year.\")\n"
   ]
  },
  {
   "cell_type": "code",
   "execution_count": 47,
   "id": "527de4a7-4be1-43f3-9631-9ada70bdaab9",
   "metadata": {},
   "outputs": [],
   "source": [
    "# 28. Create a program that sorts three numbers in ascending order using conditional statements."
   ]
  },
  {
   "cell_type": "code",
   "execution_count": 49,
   "id": "2076c10c-c076-4298-9cc2-a792c70e0282",
   "metadata": {},
   "outputs": [
    {
     "name": "stdin",
     "output_type": "stream",
     "text": [
      "Enter the first number:  155\n",
      "Enter the second number:  234\n",
      "Enter the third number:  123\n"
     ]
    },
    {
     "name": "stdout",
     "output_type": "stream",
     "text": [
      "Sorted numbers in ascending order: [123.0, 155.0, 234.0]\n"
     ]
    }
   ],
   "source": [
    "# Input three numbers from the user\n",
    "num1 = float(input(\"Enter the first number: \"))\n",
    "num2 = float(input(\"Enter the second number: \"))\n",
    "num3 = float(input(\"Enter the third number: \"))\n",
    "\n",
    "# Using conditional statements to sort the numbers\n",
    "if num1 <= num2 <= num3:\n",
    "    sorted_nums = [num1, num2, num3]\n",
    "elif num1 <= num3 <= num2:\n",
    "    sorted_nums = [num1, num3, num2]\n",
    "elif num2 <= num1 <= num3:\n",
    "    sorted_nums = [num2, num1, num3]\n",
    "elif num2 <= num3 <= num1:\n",
    "    sorted_nums = [num2, num3, num1]\n",
    "elif num3 <= num1 <= num2:\n",
    "    sorted_nums = [num3, num1, num2]\n",
    "else:\n",
    "    sorted_nums = [num3, num2, num1]\n",
    "\n",
    "# Display the sorted numbers\n",
    "print(\"Sorted numbers in ascending order:\", sorted_nums)\n"
   ]
  },
  {
   "cell_type": "code",
   "execution_count": 50,
   "id": "229b1315-ea64-45d8-8d09-3fdcbd13d4ac",
   "metadata": {},
   "outputs": [],
   "source": [
    "# 29. Build a program that determines the roots of a quartic equation using numerical methods."
   ]
  },
  {
   "cell_type": "code",
   "execution_count": 51,
   "id": "25917be8-bcdc-42e0-83e9-f4773a6b4086",
   "metadata": {},
   "outputs": [
    {
     "name": "stdout",
     "output_type": "stream",
     "text": [
      "Approximate root found: x = -1.200253\n",
      "Verification: Equation(x) = 0.000000\n"
     ]
    }
   ],
   "source": [
    "import sympy as sp\n",
    "\n",
    "# Define the variable and equation\n",
    "x = sp.symbols('x')\n",
    "equation = x**4 - 5*x**3 + 2*x**2 + 8*x - 4\n",
    "\n",
    "# Define the initial guess for the root\n",
    "initial_guess = 1.0\n",
    "\n",
    "# Maximum number of iterations\n",
    "max_iterations = 1000\n",
    "\n",
    "# Tolerance (stopping criterion)\n",
    "tolerance = 1e-6\n",
    "\n",
    "# Apply the Newton-Raphson method\n",
    "root = initial_guess\n",
    "for i in range(max_iterations):\n",
    "    # Calculate the derivative of the equation\n",
    "    derivative = sp.diff(equation, x)\n",
    "    \n",
    "    # Update the root using Newton-Raphson formula\n",
    "    root = root - equation.subs(x, root) / derivative.subs(x, root)\n",
    "    \n",
    "    # Check if the root is close enough to the solution\n",
    "    if abs(equation.subs(x, root)) < tolerance:\n",
    "        break\n",
    "\n",
    "# Display the approximate root\n",
    "if i < max_iterations - 1:\n",
    "    print(f\"Approximate root found: x = {root:.6f}\")\n",
    "else:\n",
    "    print(\"Maximum iterations reached. No convergence.\")\n",
    "\n",
    "# Verify the result by substituting the root back into the equation\n",
    "verification = equation.subs(x, root)\n",
    "print(f\"Verification: Equation(x) = {verification:.6f}\")\n"
   ]
  },
  {
   "cell_type": "code",
   "execution_count": null,
   "id": "2022c18f-1b0c-4b77-8140-89a97d0b1497",
   "metadata": {},
   "outputs": [],
   "source": []
  }
 ],
 "metadata": {
  "kernelspec": {
   "display_name": "Python 3 (ipykernel)",
   "language": "python",
   "name": "python3"
  },
  "language_info": {
   "codemirror_mode": {
    "name": "ipython",
    "version": 3
   },
   "file_extension": ".py",
   "mimetype": "text/x-python",
   "name": "python",
   "nbconvert_exporter": "python",
   "pygments_lexer": "ipython3",
   "version": "3.10.8"
  }
 },
 "nbformat": 4,
 "nbformat_minor": 5
}
